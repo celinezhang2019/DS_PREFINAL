{
 "cells": [
  {
   "cell_type": "code",
   "execution_count": 1,
   "metadata": {},
   "outputs": [],
   "source": [
    "%%capture\n",
    "import keras\n",
    "import keras.backend as K\n",
    "from keras.models import Model\n",
    "from keras.layers import Input, Dense, Conv2D, Conv3D, DepthwiseConv2D, SeparableConv2D, Conv3DTranspose\n",
    "from keras.layers import Flatten, MaxPool2D, AvgPool2D, GlobalAvgPool2D, UpSampling2D, BatchNormalization\n",
    "from keras.layers import Concatenate, Add, Dropout, ReLU, Lambda, Activation, LeakyReLU, PReLU\n",
    "from keras.utils import np_utils\n",
    "from IPython.display import SVG\n",
    "from keras.utils.vis_utils import model_to_dot\n",
    "from keras.optimizers import SGD\n",
    "from time import time\n",
    "from keras.callbacks import EarlyStopping\n",
    "from sklearn.metrics import confusion_matrix, f1_score, precision_score, recall_score\n",
    "from keras.callbacks import Callback\n",
    "from keras.preprocessing.image import ImageDataGenerator\n",
    "\n",
    "import numpy as np\n",
    "import pandas as pd\n",
    "import matplotlib, os, math\n",
    "\n",
    "os.environ[\"CUDA_VISIBLE_DEVICES\"]=\"0,1\""
   ]
  },
  {
   "cell_type": "markdown",
   "metadata": {},
   "source": [
    "### 1.Prepare data"
   ]
  },
  {
   "cell_type": "code",
   "execution_count": 2,
   "metadata": {},
   "outputs": [
    {
     "name": "stdout",
     "output_type": "stream",
     "text": [
      "Loading X_train...\n",
      "Running time: 844.0371563434601 seconds\n"
     ]
    }
   ],
   "source": [
    "from time import time\n",
    "import numpy as np\n",
    "\n",
    "start_time = time()\n",
    "\n",
    "print('Loading X_train...')\n",
    "X_train = np.load('/home/zxt/data/final_22/224/5k/X_train.npy')\n",
    "\n",
    "\n",
    "end_time = time()\n",
    "print('Running time: %s seconds'%(end_time - start_time))"
   ]
  },
  {
   "cell_type": "code",
   "execution_count": 3,
   "metadata": {},
   "outputs": [
    {
     "data": {
      "text/plain": [
       "88000"
      ]
     },
     "execution_count": 3,
     "metadata": {},
     "output_type": "execute_result"
    }
   ],
   "source": [
    "len(X_train)"
   ]
  },
  {
   "cell_type": "code",
   "execution_count": 23,
   "metadata": {},
   "outputs": [
    {
     "name": "stdout",
     "output_type": "stream",
     "text": [
      "Loading labels...\n",
      "Running time: 77.31244158744812 seconds\n"
     ]
    }
   ],
   "source": [
    "# from time import time\n",
    "# import numpy as np\n",
    "\n",
    "# start_time = time()\n",
    "\n",
    "# print('Loading X_validate...')\n",
    "# X_validate = np.load('/home/zxt/data/final_22/224/5k/X_validate.npy')\n",
    "\n",
    "# print('Loading X_test...')\n",
    "# X_test = np.load('/home/zxt/data/final_22/224/5k/X_test.npy')\n",
    "\n",
    "print('Loading labels...')\n",
    "Y_train = np.load('/home/zxt/data/final_22/224/5k/Y_train.npy')\n",
    "Y_validate = np.load('/home/zxt/data/final_22/224/5k/Y_validate.npy')\n",
    "Y_test = np.load('/home/zxt/data/final_22/224/5k/Y_test.npy')\n",
    "\n",
    "end_time = time()\n",
    "print('Running time: %s seconds'%(end_time - start_time))"
   ]
  },
  {
   "cell_type": "code",
   "execution_count": 5,
   "metadata": {},
   "outputs": [
    {
     "name": "stdout",
     "output_type": "stream",
     "text": [
      "X_train shape: (88000, 224, 224, 3)\n",
      "88000 train samples\n",
      "11000 validate samples\n",
      "11000 test samples\n"
     ]
    }
   ],
   "source": [
    "print('X_train shape:', X_train.shape)\n",
    "print(X_train.shape[0], 'train samples')\n",
    "print(X_validate.shape[0], 'validate samples')\n",
    "print(X_test.shape[0], 'test samples')"
   ]
  },
  {
   "cell_type": "code",
   "execution_count": 35,
   "metadata": {},
   "outputs": [
    {
     "data": {
      "text/plain": [
       "(88000, 1)"
      ]
     },
     "execution_count": 35,
     "metadata": {},
     "output_type": "execute_result"
    }
   ],
   "source": [
    "Y_train.shape"
   ]
  },
  {
   "cell_type": "code",
   "execution_count": 25,
   "metadata": {},
   "outputs": [
    {
     "data": {
      "text/plain": [
       "(11000, 1)"
      ]
     },
     "execution_count": 25,
     "metadata": {},
     "output_type": "execute_result"
    }
   ],
   "source": [
    "Y_validate.shape"
   ]
  },
  {
   "cell_type": "code",
   "execution_count": 26,
   "metadata": {},
   "outputs": [
    {
     "data": {
      "text/plain": [
       "(11000, 1)"
      ]
     },
     "execution_count": 26,
     "metadata": {},
     "output_type": "execute_result"
    }
   ],
   "source": [
    "Y_test.shape"
   ]
  },
  {
   "cell_type": "code",
   "execution_count": 9,
   "metadata": {},
   "outputs": [],
   "source": [
    "X_train /=255.\n",
    "X_validate /=  255.\n",
    "X_test /= 255."
   ]
  },
  {
   "cell_type": "code",
   "execution_count": 10,
   "metadata": {},
   "outputs": [],
   "source": [
    "Y_train = np.load('/home/zxt/data/final_22/224/2k/Y_train.npy')\n",
    "Y_validate = np.load('/home/zxt/data/final_22/224/2k/Y_validate.npy')\n",
    "Y_test = np.load('/home/zxt/data/final_22/224/2k/Y_test.npy')"
   ]
  },
  {
   "cell_type": "code",
   "execution_count": 11,
   "metadata": {},
   "outputs": [
    {
     "data": {
      "text/plain": [
       "array([['guineafowl'],\n",
       "       ['lion'],\n",
       "       ['wildebeest'],\n",
       "       ...,\n",
       "       ['buffalo'],\n",
       "       ['hare'],\n",
       "       ['black_bear']], dtype='<U16')"
      ]
     },
     "execution_count": 11,
     "metadata": {},
     "output_type": "execute_result"
    }
   ],
   "source": [
    "Y_test"
   ]
  },
  {
   "cell_type": "code",
   "execution_count": 36,
   "metadata": {},
   "outputs": [],
   "source": [
    "# Y_train label\n",
    "for i in Y_train:\n",
    "    if i[0]=='elephant':\n",
    "        i[0]=0\n",
    "    if i[0]=='wild_boar':\n",
    "        i[0]=1\n",
    "    if i[0]=='gazellethomosons':\n",
    "        i[0]=2\n",
    "    if i[0]=='squirrel':\n",
    "        i[0]=3 \n",
    "    if i[0]=='hedgehog':\n",
    "        i[0]=4\n",
    "    if i[0]=='guineafowl':\n",
    "        i[0]=5\n",
    "    if i[0]=='moose':\n",
    "        i[0]=6\n",
    "    if i[0]=='coyote':\n",
    "        i[0]=7   \n",
    "    if i[0]=='bird':\n",
    "        i[0]=8\n",
    "    if i[0]=='fox':\n",
    "        i[0]=9\n",
    "    if i[0]=='giraffe':\n",
    "        i[0]=10\n",
    "    if i[0]=='buffalo':\n",
    "        i[0]=11\n",
    "    if i[0]=='hare':\n",
    "        i[0]=12\n",
    "    if i[0]=='vehicle':\n",
    "        i[0]=13\n",
    "    if i[0]=='wildebeest':\n",
    "        i[0]=14\n",
    "    if i[0]=='cattle':\n",
    "        i[0]=15 \n",
    "    if i[0]=='skunk':\n",
    "        i[0]=16\n",
    "    if i[0]=='lion':\n",
    "        i[0]=17\n",
    "    if i[0]=='zebra':\n",
    "        i[0]=18\n",
    "    if i[0]=='black_bear':\n",
    "        i[0]=19\n",
    "    if i[0]=='racoon':\n",
    "        i[0]=20\n",
    "    if i[0]=='empty':\n",
    "        i[0]=21\n",
    "        \n",
    "for i in Y_validate:\n",
    "    if i[0]=='elephant':\n",
    "        i[0]=0\n",
    "    if i[0]=='wild_boar':\n",
    "        i[0]=1\n",
    "    if i[0]=='gazellethomosons':\n",
    "        i[0]=2\n",
    "    if i[0]=='squirrel':\n",
    "        i[0]=3 \n",
    "    if i[0]=='hedgehog':\n",
    "        i[0]=4\n",
    "    if i[0]=='guineafowl':\n",
    "        i[0]=5\n",
    "    if i[0]=='moose':\n",
    "        i[0]=6\n",
    "    if i[0]=='coyote':\n",
    "        i[0]=7   \n",
    "    if i[0]=='bird':\n",
    "        i[0]=8\n",
    "    if i[0]=='fox':\n",
    "        i[0]=9\n",
    "    if i[0]=='giraffe':\n",
    "        i[0]=10\n",
    "    if i[0]=='buffalo':\n",
    "        i[0]=11\n",
    "    if i[0]=='hare':\n",
    "        i[0]=12\n",
    "    if i[0]=='vehicle':\n",
    "        i[0]=13\n",
    "    if i[0]=='wildebeest':\n",
    "        i[0]=14\n",
    "    if i[0]=='cattle':\n",
    "        i[0]=15 \n",
    "    if i[0]=='skunk':\n",
    "        i[0]=16\n",
    "    if i[0]=='lion':\n",
    "        i[0]=17\n",
    "    if i[0]=='zebra':\n",
    "        i[0]=18\n",
    "    if i[0]=='black_bear':\n",
    "        i[0]=19\n",
    "    if i[0]=='racoon':\n",
    "        i[0]=20\n",
    "    if i[0]=='empty':\n",
    "        i[0]=21\n",
    "\n",
    "for i in Y_test:\n",
    "    if i[0]=='elephant':\n",
    "        i[0]=0\n",
    "    if i[0]=='wild_boar':\n",
    "        i[0]=1\n",
    "    if i[0]=='gazellethomosons':\n",
    "        i[0]=2\n",
    "    if i[0]=='squirrel':\n",
    "        i[0]=3 \n",
    "    if i[0]=='hedgehog':\n",
    "        i[0]=4\n",
    "    if i[0]=='guineafowl':\n",
    "        i[0]=5\n",
    "    if i[0]=='moose':\n",
    "        i[0]=6\n",
    "    if i[0]=='coyote':\n",
    "        i[0]=7   \n",
    "    if i[0]=='bird':\n",
    "        i[0]=8\n",
    "    if i[0]=='fox':\n",
    "        i[0]=9\n",
    "    if i[0]=='giraffe':\n",
    "        i[0]=10\n",
    "    if i[0]=='buffalo':\n",
    "        i[0]=11\n",
    "    if i[0]=='hare':\n",
    "        i[0]=12\n",
    "    if i[0]=='vehicle':\n",
    "        i[0]=13\n",
    "    if i[0]=='wildebeest':\n",
    "        i[0]=14\n",
    "    if i[0]=='cattle':\n",
    "        i[0]=15 \n",
    "    if i[0]=='skunk':\n",
    "        i[0]=16\n",
    "    if i[0]=='lion':\n",
    "        i[0]=17\n",
    "    if i[0]=='zebra':\n",
    "        i[0]=18\n",
    "    if i[0]=='black_bear':\n",
    "        i[0]=19\n",
    "    if i[0]=='racoon':\n",
    "        i[0]=20\n",
    "    if i[0]=='empty':\n",
    "        i[0]=21"
   ]
  },
  {
   "cell_type": "code",
   "execution_count": 37,
   "metadata": {},
   "outputs": [],
   "source": [
    "from keras.utils import np_utils\n",
    "y_train=np_utils.to_categorical(Y_train,22)\n",
    "y_valid=np_utils.to_categorical(Y_validate,22)\n",
    "y_test=np_utils.to_categorical(Y_test,22)"
   ]
  },
  {
   "cell_type": "code",
   "execution_count": 38,
   "metadata": {},
   "outputs": [
    {
     "data": {
      "text/plain": [
       "array([[0., 0., 0., ..., 0., 0., 0.],\n",
       "       [0., 0., 0., ..., 0., 0., 0.],\n",
       "       [0., 0., 0., ..., 0., 0., 0.],\n",
       "       ...,\n",
       "       [0., 0., 0., ..., 0., 0., 0.],\n",
       "       [0., 0., 0., ..., 0., 0., 0.],\n",
       "       [0., 0., 0., ..., 0., 1., 0.]], dtype=float32)"
      ]
     },
     "execution_count": 38,
     "metadata": {},
     "output_type": "execute_result"
    }
   ],
   "source": [
    "y_test"
   ]
  },
  {
   "cell_type": "markdown",
   "metadata": {},
   "source": [
    "### 2.Model structure"
   ]
  },
  {
   "cell_type": "code",
   "execution_count": 27,
   "metadata": {},
   "outputs": [],
   "source": [
    "def alexnet_s(input_shape, n_classes):\n",
    "    input = Input(input_shape)\n",
    "  \n",
    "    # actually batch normalization didn't exist back then\n",
    "    # they used LRN (Local Response Normalization) for regularization\n",
    "    x = Conv2D(96, 11, strides=4, padding='same', activation='relu')(input)\n",
    "    x = BatchNormalization()(x)\n",
    "    x = MaxPool2D(3, strides=2)(x)\n",
    "  \n",
    "    x = Conv2D(256, 5, padding='same', activation='relu')(x)\n",
    "    x = BatchNormalization()(x)\n",
    "    x = MaxPool2D(3, strides=2)(x)\n",
    "  \n",
    "    x = Conv2D(384, 3, strides=1, padding='same', activation='relu')(x)\n",
    "  \n",
    "    x = Conv2D(384, 3, strides=1, padding='same', activation='relu')(x)\n",
    "  \n",
    "    x = Conv2D(256, 3, strides=1, padding='same', activation='relu')(x)\n",
    "    x = BatchNormalization()(x)\n",
    "    x = MaxPool2D(3, strides=2)(x)\n",
    "  \n",
    "    x = Flatten()(x)\n",
    "    x = Dense(4096, activation='relu')(x)\n",
    "    x = Dense(4096, activation='relu')(x)\n",
    "    \n",
    "    # S: add two more layers to train\n",
    "    x = Dropout(0.4)(x)\n",
    "    x = Dense(4096,activation='relu')(x)\n",
    "    x = Dropout(0.4)(x)\n",
    "    x = Dense(4096,activation='relu')(x)\n",
    "    \n",
    "  \n",
    "    output = Dense(n_classes, activation='softmax')(x)\n",
    "  \n",
    "    model = Model(input, output)\n",
    "    return model"
   ]
  },
  {
   "cell_type": "code",
   "execution_count": 28,
   "metadata": {},
   "outputs": [],
   "source": [
    "# prevent overfitting\n",
    "early_stopping = EarlyStopping(monitor='val_loss', patience=10, verbose=1)"
   ]
  },
  {
   "cell_type": "markdown",
   "metadata": {},
   "source": [
    "### 3.Data Augmentation"
   ]
  },
  {
   "cell_type": "code",
   "execution_count": 29,
   "metadata": {},
   "outputs": [],
   "source": [
    "# # Data augmentation\n",
    "\n",
    "# image_datagen = ImageDataGenerator(\n",
    "#     rotation_range=30,\n",
    "#     width_shift_range=0.2,\n",
    "#     height_shift_range=0.2,\n",
    "#     shear_range=0.3,\n",
    "#     zoom_range=0.2,\n",
    "#     horizontal_flip=True,\n",
    "#     brightness_range=(0.6,1),\n",
    "#     fill_mode=\"nearest\")\n",
    "\n",
    "# image_datagen.fit(X_train, augment=True)"
   ]
  },
  {
   "cell_type": "markdown",
   "metadata": {},
   "source": [
    "### 3.Modeling"
   ]
  },
  {
   "cell_type": "code",
   "execution_count": 30,
   "metadata": {},
   "outputs": [],
   "source": [
    "num_train_samples = len(Y_train)\n",
    "num_val_samples = len(Y_validate)\n",
    "batch_size = 128\n",
    "epochs = 40\n",
    "n_classes = 22\n",
    "input_shape = 224,224,3\n",
    "\n",
    "learning_rate = 0.01\n",
    "decay_rate = learning_rate / epochs\n",
    "momentum = 0.8\n",
    "sgd = SGD(lr=learning_rate, momentum=momentum, decay=decay_rate, nesterov=False)"
   ]
  },
  {
   "cell_type": "code",
   "execution_count": 31,
   "metadata": {},
   "outputs": [],
   "source": [
    "K.clear_session()\n",
    "model = alexnet_s(input_shape, n_classes)\n",
    "# model.summary()"
   ]
  },
  {
   "cell_type": "code",
   "execution_count": 32,
   "metadata": {},
   "outputs": [],
   "source": [
    "model.compile(loss='categorical_crossentropy',optimizer=sgd,metrics=['accuracy'])"
   ]
  },
  {
   "cell_type": "code",
   "execution_count": 47,
   "metadata": {},
   "outputs": [
    {
     "name": "stdout",
     "output_type": "stream",
     "text": [
      "Training model...\n",
      "Train on 88000 samples, validate on 11000 samples\n",
      "Epoch 1/20\n",
      "88000/88000 [==============================] - 418s 5ms/step - loss: 0.0282 - accuracy: 0.9909 - val_loss: 0.5561 - val_accuracy: 0.8951\n",
      "Epoch 2/20\n",
      "88000/88000 [==============================] - 420s 5ms/step - loss: 0.0240 - accuracy: 0.9921 - val_loss: 0.5511 - val_accuracy: 0.8971\n",
      "Epoch 3/20\n",
      "88000/88000 [==============================] - 418s 5ms/step - loss: 0.0215 - accuracy: 0.9932 - val_loss: 0.5570 - val_accuracy: 0.8992\n",
      "Epoch 4/20\n",
      "88000/88000 [==============================] - 422s 5ms/step - loss: 0.0185 - accuracy: 0.9942 - val_loss: 0.5839 - val_accuracy: 0.8995\n",
      "Epoch 5/20\n",
      "88000/88000 [==============================] - 424s 5ms/step - loss: 0.0178 - accuracy: 0.9944 - val_loss: 0.5695 - val_accuracy: 0.8987\n",
      "Epoch 6/20\n",
      "88000/88000 [==============================] - 425s 5ms/step - loss: 0.0146 - accuracy: 0.9954 - val_loss: 0.5762 - val_accuracy: 0.9015\n",
      "Epoch 7/20\n",
      "88000/88000 [==============================] - 424s 5ms/step - loss: 0.0132 - accuracy: 0.9959 - val_loss: 0.5880 - val_accuracy: 0.9005\n",
      "Epoch 8/20\n",
      "88000/88000 [==============================] - 424s 5ms/step - loss: 0.0120 - accuracy: 0.9963 - val_loss: 0.6079 - val_accuracy: 0.8999\n",
      "Epoch 9/20\n",
      "88000/88000 [==============================] - 424s 5ms/step - loss: 0.0123 - accuracy: 0.9961 - val_loss: 0.6034 - val_accuracy: 0.9008\n",
      "Epoch 10/20\n",
      "88000/88000 [==============================] - 425s 5ms/step - loss: 0.0110 - accuracy: 0.9967 - val_loss: 0.6059 - val_accuracy: 0.9008\n",
      "Epoch 11/20\n",
      "88000/88000 [==============================] - 423s 5ms/step - loss: 0.0100 - accuracy: 0.9969 - val_loss: 0.6038 - val_accuracy: 0.9030\n",
      "Epoch 12/20\n",
      "88000/88000 [==============================] - 425s 5ms/step - loss: 0.0083 - accuracy: 0.9978 - val_loss: 0.6015 - val_accuracy: 0.9017\n",
      "Epoch 13/20\n",
      "88000/88000 [==============================] - 423s 5ms/step - loss: 0.0077 - accuracy: 0.9976 - val_loss: 0.6317 - val_accuracy: 0.9012\n",
      "Epoch 14/20\n",
      "88000/88000 [==============================] - 424s 5ms/step - loss: 0.0075 - accuracy: 0.9979 - val_loss: 0.6110 - val_accuracy: 0.9032\n",
      "Epoch 15/20\n",
      "88000/88000 [==============================] - 422s 5ms/step - loss: 0.0069 - accuracy: 0.9981 - val_loss: 0.6191 - val_accuracy: 0.9050\n",
      "Epoch 16/20\n",
      "88000/88000 [==============================] - 417s 5ms/step - loss: 0.0063 - accuracy: 0.9981 - val_loss: 0.6253 - val_accuracy: 0.9011\n",
      "Epoch 17/20\n",
      "88000/88000 [==============================] - 417s 5ms/step - loss: 0.0058 - accuracy: 0.9983 - val_loss: 0.6273 - val_accuracy: 0.9035\n",
      "Epoch 18/20\n",
      "88000/88000 [==============================] - 418s 5ms/step - loss: 0.0056 - accuracy: 0.9984 - val_loss: 0.6368 - val_accuracy: 0.9039\n",
      "Epoch 19/20\n",
      "88000/88000 [==============================] - 417s 5ms/step - loss: 0.0054 - accuracy: 0.9986 - val_loss: 0.6243 - val_accuracy: 0.9048\n",
      "Epoch 20/20\n",
      "88000/88000 [==============================] - 416s 5ms/step - loss: 0.0050 - accuracy: 0.9985 - val_loss: 0.6251 - val_accuracy: 0.9044\n",
      "Running time: 8425.512409687042 seconds\n"
     ]
    }
   ],
   "source": [
    "start_time = time()\n",
    "print('Training model...')\n",
    "\n",
    "\n",
    "hist = model.fit(\n",
    "    X_train, \n",
    "    y_train,\n",
    "    batch_size=batch_size,\n",
    "    epochs=20,\n",
    "#     callbacks=[early_stopping],\n",
    "    validation_data = (X_validate,y_valid))\n",
    "\n",
    "end_time = time()\n",
    "print('Running time: %s seconds'%(end_time - start_time))"
   ]
  },
  {
   "cell_type": "code",
   "execution_count": 50,
   "metadata": {},
   "outputs": [],
   "source": [
    "model.save('/home/zxt/data/final_22/model/224_5k/alexnet_s_40epoch.h5')\n",
    "model.save_weights('/home/zxt/data/final_22/model/224_5k/alexnet_s_40epoch_weights.h5')"
   ]
  },
  {
   "cell_type": "markdown",
   "metadata": {},
   "source": [
    "### 4.Evaluation"
   ]
  },
  {
   "cell_type": "code",
   "execution_count": 51,
   "metadata": {},
   "outputs": [
    {
     "data": {
      "text/plain": [
       "<matplotlib.axes._subplots.AxesSubplot at 0x7f430c74e1d0>"
      ]
     },
     "execution_count": 51,
     "metadata": {},
     "output_type": "execute_result"
    },
    {
     "data": {
      "image/png": "[encoded data removed]",
      "text/plain": [
       "<Figure size 432x288 with 1 Axes>"
      ]
     },
     "metadata": {
      "needs_background": "light"
     },
     "output_type": "display_data"
    },
    {
     "data": {
      "image/png": "[encoded data removed]",
      "text/plain": [
       "<Figure size 432x288 with 1 Axes>"
      ]
     },
     "metadata": {
      "needs_background": "light"
     },
     "output_type": "display_data"
    }
   ],
   "source": [
    "history_df = pd.DataFrame(hist.history)\n",
    "history_df[['loss', 'val_loss']].plot()\n",
    "history_df[['accuracy', 'val_accuracy']].plot()"
   ]
  },
  {
   "cell_type": "markdown",
   "metadata": {},
   "source": [
    "### 5.Prediction on X_test dataset"
   ]
  },
  {
   "cell_type": "code",
   "execution_count": 52,
   "metadata": {},
   "outputs": [
    {
     "name": "stdout",
     "output_type": "stream",
     "text": [
      "11000/11000 [==============================] - 31s 3ms/step\n",
      "\n",
      "test loss 0.6736846257399091\n",
      "accuracy 0.9051818251609802\n"
     ]
    }
   ],
   "source": [
    "loss,accuracy = model.evaluate(X_test,y_test)\n",
    "print('\\ntest loss',loss)\n",
    "print('accuracy',accuracy)"
   ]
  },
  {
   "cell_type": "code",
   "execution_count": 53,
   "metadata": {},
   "outputs": [],
   "source": [
    "y_pred = model.predict(X_test,batch_size=1)"
   ]
  },
  {
   "cell_type": "code",
   "execution_count": 54,
   "metadata": {},
   "outputs": [
    {
     "data": {
      "text/plain": [
       "array([[2.7718507e-16, 5.2957839e-13, 3.3255152e-17, ..., 3.5044995e-10,\n",
       "        2.2263925e-11, 1.5677665e-14],\n",
       "       [2.7416841e-21, 1.7030385e-14, 3.3268269e-22, ..., 5.2233032e-14,\n",
       "        6.3315058e-17, 5.4075026e-20],\n",
       "       [2.5677487e-02, 4.4983020e-14, 1.9969532e-08, ..., 1.2326187e-13,\n",
       "        1.1822144e-09, 9.6323538e-07],\n",
       "       ...,\n",
       "       [6.7046977e-04, 3.2791729e-09, 2.9727976e-06, ..., 7.7331226e-09,\n",
       "        2.9572652e-08, 3.9145979e-03],\n",
       "       [7.4325540e-10, 1.2986153e-16, 1.6125136e-16, ..., 1.6115746e-21,\n",
       "        1.7514120e-20, 2.4169113e-18],\n",
       "       [7.7899487e-16, 1.7649633e-11, 6.6584271e-14, ..., 4.0397828e-13,\n",
       "        9.9991727e-01, 7.6493023e-10]], dtype=float32)"
      ]
     },
     "execution_count": 54,
     "metadata": {},
     "output_type": "execute_result"
    }
   ],
   "source": [
    "y_pred"
   ]
  },
  {
   "cell_type": "code",
   "execution_count": 55,
   "metadata": {},
   "outputs": [
    {
     "data": {
      "text/plain": [
       "11000"
      ]
     },
     "execution_count": 55,
     "metadata": {},
     "output_type": "execute_result"
    }
   ],
   "source": [
    "len(y_pred)"
   ]
  },
  {
   "cell_type": "markdown",
   "metadata": {},
   "source": [
    "### 6.Check each categoryaccuracy"
   ]
  },
  {
   "cell_type": "code",
   "execution_count": 56,
   "metadata": {},
   "outputs": [],
   "source": [
    "a = list(y_pred)\n",
    "y_prediction=[]\n",
    "for i in a:\n",
    "    j =list(i)\n",
    "    y_prediction.append(j.index(max(j)))"
   ]
  },
  {
   "cell_type": "code",
   "execution_count": 57,
   "metadata": {},
   "outputs": [
    {
     "data": {
      "text/plain": [
       "[9, 16, 14, 10, 3]"
      ]
     },
     "execution_count": 57,
     "metadata": {},
     "output_type": "execute_result"
    }
   ],
   "source": [
    "y_prediction[:5]"
   ]
  },
  {
   "cell_type": "code",
   "execution_count": 58,
   "metadata": {},
   "outputs": [
    {
     "data": {
      "text/plain": [
       "array([['9'],\n",
       "       ['16'],\n",
       "       ['14'],\n",
       "       ['10'],\n",
       "       ['3']], dtype='<U16')"
      ]
     },
     "execution_count": 58,
     "metadata": {},
     "output_type": "execute_result"
    }
   ],
   "source": [
    "Y_test[:5]"
   ]
  },
  {
   "cell_type": "code",
   "execution_count": 59,
   "metadata": {},
   "outputs": [],
   "source": [
    "# array to dataframe\n",
    "y_real=pd.DataFrame(Y_test,columns=['label'])"
   ]
  },
  {
   "cell_type": "code",
   "execution_count": 60,
   "metadata": {},
   "outputs": [],
   "source": [
    "y_predict = pd.DataFrame(y_prediction,columns=['label_pre'])"
   ]
  },
  {
   "cell_type": "code",
   "execution_count": 61,
   "metadata": {},
   "outputs": [],
   "source": [
    "prediction_df = pd.concat([y_real,y_predict],axis=1)\n",
    "prediction_df['label']=prediction_df['label'].astype(int)\n",
    "prediction_df['diff']=prediction_df['label']-prediction_df['label_pre']\n"
   ]
  },
  {
   "cell_type": "code",
   "execution_count": 62,
   "metadata": {},
   "outputs": [
    {
     "data": {
      "text/html": [
       "<div>\n",
       "<style scoped>\n",
       "    .dataframe tbody tr th:only-of-type {\n",
       "        vertical-align: middle;\n",
       "    }\n",
       "\n",
       "    .dataframe tbody tr th {\n",
       "        vertical-align: top;\n",
       "    }\n",
       "\n",
       "    .dataframe thead th {\n",
       "        text-align: right;\n",
       "    }\n",
       "</style>\n",
       "<table border=\"1\" class=\"dataframe\">\n",
       "  <thead>\n",
       "    <tr style=\"text-align: right;\">\n",
       "      <th></th>\n",
       "      <th>label</th>\n",
       "      <th>label_pre</th>\n",
       "      <th>diff</th>\n",
       "    </tr>\n",
       "  </thead>\n",
       "  <tbody>\n",
       "    <tr>\n",
       "      <td>0</td>\n",
       "      <td>9</td>\n",
       "      <td>9</td>\n",
       "      <td>0</td>\n",
       "    </tr>\n",
       "    <tr>\n",
       "      <td>1</td>\n",
       "      <td>16</td>\n",
       "      <td>16</td>\n",
       "      <td>0</td>\n",
       "    </tr>\n",
       "    <tr>\n",
       "      <td>2</td>\n",
       "      <td>14</td>\n",
       "      <td>14</td>\n",
       "      <td>0</td>\n",
       "    </tr>\n",
       "    <tr>\n",
       "      <td>3</td>\n",
       "      <td>10</td>\n",
       "      <td>10</td>\n",
       "      <td>0</td>\n",
       "    </tr>\n",
       "    <tr>\n",
       "      <td>4</td>\n",
       "      <td>3</td>\n",
       "      <td>3</td>\n",
       "      <td>0</td>\n",
       "    </tr>\n",
       "    <tr>\n",
       "      <td>...</td>\n",
       "      <td>...</td>\n",
       "      <td>...</td>\n",
       "      <td>...</td>\n",
       "    </tr>\n",
       "    <tr>\n",
       "      <td>10995</td>\n",
       "      <td>0</td>\n",
       "      <td>0</td>\n",
       "      <td>0</td>\n",
       "    </tr>\n",
       "    <tr>\n",
       "      <td>10996</td>\n",
       "      <td>15</td>\n",
       "      <td>15</td>\n",
       "      <td>0</td>\n",
       "    </tr>\n",
       "    <tr>\n",
       "      <td>10997</td>\n",
       "      <td>18</td>\n",
       "      <td>18</td>\n",
       "      <td>0</td>\n",
       "    </tr>\n",
       "    <tr>\n",
       "      <td>10998</td>\n",
       "      <td>11</td>\n",
       "      <td>11</td>\n",
       "      <td>0</td>\n",
       "    </tr>\n",
       "    <tr>\n",
       "      <td>10999</td>\n",
       "      <td>20</td>\n",
       "      <td>20</td>\n",
       "      <td>0</td>\n",
       "    </tr>\n",
       "  </tbody>\n",
       "</table>\n",
       "<p>11000 rows × 3 columns</p>\n",
       "</div>"
      ],
      "text/plain": [
       "       label  label_pre  diff\n",
       "0          9          9     0\n",
       "1         16         16     0\n",
       "2         14         14     0\n",
       "3         10         10     0\n",
       "4          3          3     0\n",
       "...      ...        ...   ...\n",
       "10995      0          0     0\n",
       "10996     15         15     0\n",
       "10997     18         18     0\n",
       "10998     11         11     0\n",
       "10999     20         20     0\n",
       "\n",
       "[11000 rows x 3 columns]"
      ]
     },
     "execution_count": 62,
     "metadata": {},
     "output_type": "execute_result"
    }
   ],
   "source": [
    "prediction_df"
   ]
  },
  {
   "cell_type": "code",
   "execution_count": 63,
   "metadata": {},
   "outputs": [],
   "source": [
    "prediction_df.to_csv(r'/home/zxt/data/final_22/prediction/alexnet_s_predictdiff.csv',index=False)"
   ]
  },
  {
   "cell_type": "code",
   "execution_count": 64,
   "metadata": {},
   "outputs": [
    {
     "name": "stdout",
     "output_type": "stream",
     "text": [
      "elephant acc:      0.842\n",
      "wild_boar acc:      0.806\n",
      "gazellethomosons acc:      0.951\n",
      "squirrel acc:      0.920\n",
      "hedgehog acc:      0.998\n",
      "guineafowl acc:      0.970\n",
      "moose acc:      0.988\n",
      "coyote acc:      0.922\n",
      "bird acc:      0.889\n",
      "fox acc:      0.872\n",
      "giraffe acc:      0.945\n",
      "buffalo acc:      0.890\n",
      "hare acc:      0.975\n",
      "vehicle acc:      0.933\n",
      "wildebeest acc:      0.795\n",
      "cattle acc:      0.842\n",
      "skunk acc:      0.920\n",
      "lion acc:      0.820\n",
      "zebra acc:      0.881\n",
      "black_bear acc:      0.891\n",
      "racoon acc:      0.967\n",
      "empty acc:      0.898\n"
     ]
    }
   ],
   "source": [
    "onehot_keylist = ['elephant','wild_boar','gazellethomosons','squirrel','hedgehog','guineafowl','moose','coyote','bird',\n",
    "                  'fox','giraffe','buffalo','hare','vehicle','wildebeest','cattle','skunk','lion','zebra','black_bear',\n",
    "                  'racoon','empty']\n",
    "onehot_dict = {'elephant':0,'wild_boar':1,'gazellethomosons':2,'squirrel':3,'hedgehog':4,'guineafowl':5,'moose':6,'coyote':7,\n",
    "              'bird':8,'fox':9,'giraffe':10,'buffalo':11,'hare':12,'vehicle':13,'wildebeest':14,'cattle':15,'skunk':16,'lion':17,\n",
    "              'zebra':18,'black_bear':19,'racoon':20,'empty':21}\n",
    "\n",
    "for animal in onehot_keylist:\n",
    "    name = animal\n",
    "    animal = prediction_df[prediction_df['label']== onehot_dict[animal]]\n",
    "    acc = animal.loc[:,'diff'].value_counts()[0]/len(animal)\n",
    "    print(\"%s acc: %10.3f\" %(name,acc) )"
   ]
  },
  {
   "cell_type": "markdown",
   "metadata": {},
   "source": [
    "### 7.Confusion Matrix"
   ]
  },
  {
   "cell_type": "code",
   "execution_count": 88,
   "metadata": {},
   "outputs": [],
   "source": [
    "animal_label_dict = {0:'elephant',1:'wild_boar',2:'gazellethomosons',3:'squirrel',4:'hedgehog',\n",
    "                    5:'guineafowl',6:'moose',7:'coyote',8:'bird',9:'fox',10:'giraffe',\n",
    "                    11:'buffalo',12:'hare',13:'vehicle',14:'wildebeest',15:'cattle',\n",
    "                    16:'skunk',17:'lion',18:'zebra',19:'black_bear',20:'racoon',21:'empty'}     \n",
    "labels=[]\n",
    "for i in range(0,22):\n",
    "    name = animal_label_dict[i]\n",
    "    labels.append(name)"
   ]
  },
  {
   "cell_type": "code",
   "execution_count": 90,
   "metadata": {},
   "outputs": [
    {
     "data": {
      "text/plain": [
       "<matplotlib.axes._subplots.AxesSubplot at 0x7f4315873dd0>"
      ]
     },
     "execution_count": 90,
     "metadata": {},
     "output_type": "execute_result"
    },
    {
     "data": {
      "image/png": "[encoded data removed]",
      "text/plain": [
       "<Figure size 864x720 with 2 Axes>"
      ]
     },
     "metadata": {
      "needs_background": "light"
     },
     "output_type": "display_data"
    }
   ],
   "source": [
    "# C2=confusion_matrix(test_true_label,prediction_label, labels=labels)\n",
    "import matplotlib as mpl\n",
    "import seaborn as sns\n",
    "import matplotlib.pyplot as plt\n",
    "from IPython.display import display\n",
    "%matplotlib inline\n",
    "C2=confusion_matrix(prediction_df['label'],prediction_df['label_pre'], labels=[0,1,2,3,4,5,6,7,8,9,10,11,12,13,14,15,16,17,18,19,20,21])\n",
    "plt.figure(figsize=(12,10))\n",
    "sns.heatmap(C2,annot=True,cmap=\"Blues\",xticklabels=labels,yticklabels=labels,fmt='.20g')"
   ]
  },
  {
   "cell_type": "code",
   "execution_count": null,
   "metadata": {},
   "outputs": [],
   "source": []
  },
  {
   "cell_type": "code",
   "execution_count": null,
   "metadata": {},
   "outputs": [],
   "source": []
  },
  {
   "cell_type": "markdown",
   "metadata": {},
   "source": [
    "### 8.Precision, recall, f1 score"
   ]
  },
  {
   "cell_type": "code",
   "execution_count": 87,
   "metadata": {},
   "outputs": [
    {
     "name": "stdout",
     "output_type": "stream",
     "text": [
      "              precision    recall  f1-score   support\n",
      "\n",
      "           0       0.87      0.84      0.85       482\n",
      "           1       0.85      0.81      0.83       480\n",
      "           2       0.92      0.95      0.94       487\n",
      "           3       0.88      0.92      0.90       514\n",
      "           4       0.99      1.00      0.99       506\n",
      "           5       0.93      0.97      0.95       461\n",
      "           6       0.96      0.99      0.97       501\n",
      "           7       0.93      0.92      0.92       502\n",
      "           8       0.90      0.89      0.90       488\n",
      "           9       0.86      0.87      0.87       491\n",
      "          10       0.93      0.94      0.94       506\n",
      "          11       0.90      0.89      0.90       517\n",
      "          12       0.93      0.98      0.95       484\n",
      "          13       0.92      0.93      0.93       507\n",
      "          14       0.85      0.79      0.82       507\n",
      "          15       0.84      0.84      0.84       487\n",
      "          16       0.93      0.92      0.92       510\n",
      "          17       0.94      0.82      0.88       528\n",
      "          18       0.81      0.88      0.85       506\n",
      "          19       0.88      0.89      0.88       503\n",
      "          20       0.94      0.97      0.95       521\n",
      "          21       0.95      0.90      0.92       512\n",
      "\n",
      "    accuracy                           0.91     11000\n",
      "   macro avg       0.91      0.91      0.90     11000\n",
      "weighted avg       0.91      0.91      0.90     11000\n",
      "\n"
     ]
    }
   ],
   "source": [
    "from sklearn.metrics import confusion_matrix, accuracy_score, classification_report\n",
    "print(classification_report(prediction_df['label'],prediction_df['label_pre']))"
   ]
  },
  {
   "cell_type": "code",
   "execution_count": null,
   "metadata": {},
   "outputs": [],
   "source": []
  }
 ],
 "metadata": {
  "kernelspec": {
   "display_name": "Python 3",
   "language": "python",
   "name": "python3"
  },
  "language_info": {
   "codemirror_mode": {
    "name": "ipython",
    "version": 3
   },
   "file_extension": ".py",
   "mimetype": "text/x-python",
   "name": "python",
   "nbconvert_exporter": "python",
   "pygments_lexer": "ipython3",
   "version": "3.7.4"
  }
 },
 "nbformat": 4,
 "nbformat_minor": 4
}
