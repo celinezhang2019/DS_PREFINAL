{
 "cells": [
  {
   "cell_type": "code",
   "execution_count": 1,
   "metadata": {},
   "outputs": [],
   "source": [
    "%%capture\n",
    "import keras\n",
    "import keras.backend as K\n",
    "import numpy as np\n",
    "import pandas as pd\n",
    "import matplotlib, os, math\n",
    "import matplotlib as mpl\n",
    "import seaborn as sns\n",
    "import matplotlib.pyplot as plt\n",
    "from keras.models import Model\n",
    "from keras.layers import Input, Dense, Conv2D, Conv3D, DepthwiseConv2D, SeparableConv2D, Conv3DTranspose\n",
    "from keras.layers import Flatten, MaxPool2D, AvgPool2D, GlobalAvgPool2D, UpSampling2D, BatchNormalization\n",
    "from keras.layers import Concatenate, Add, Dropout, ReLU, Lambda, Activation, LeakyReLU, PReLU\n",
    "from keras.utils import np_utils\n",
    "from IPython.display import SVG\n",
    "from keras.utils.vis_utils import model_to_dot\n",
    "from keras.optimizers import SGD\n",
    "from time import time\n",
    "from keras.callbacks import EarlyStopping\n",
    "from sklearn.metrics import confusion_matrix, f1_score, precision_score, recall_score\n",
    "from keras.callbacks import Callback\n",
    "from IPython.display import display\n",
    "os.environ[\"CUDA_VISIBLE_DEVICES\"]=\"3\""
   ]
  },
  {
   "cell_type": "markdown",
   "metadata": {},
   "source": [
    "### 1.Prepare data"
   ]
  },
  {
   "cell_type": "code",
   "execution_count": 2,
   "metadata": {},
   "outputs": [
    {
     "name": "stdout",
     "output_type": "stream",
     "text": [
      "Loading X_train...\n",
      "Running time: 346.7868263721466 seconds\n"
     ]
    }
   ],
   "source": [
    "from time import time\n",
    "import numpy as np\n",
    "\n",
    "start_time = time()\n",
    "\n",
    "print('Loading X_train...')\n",
    "X_train = np.load('/home/zxt/data/final_22/224/2k/X_train.npy')\n",
    "\n",
    "\n",
    "end_time = time()\n",
    "print('Running time: %s seconds'%(end_time - start_time))"
   ]
  },
  {
   "cell_type": "code",
   "execution_count": 3,
   "metadata": {},
   "outputs": [
    {
     "data": {
      "text/plain": [
       "35200"
      ]
     },
     "execution_count": 3,
     "metadata": {},
     "output_type": "execute_result"
    }
   ],
   "source": [
    "len(X_train)"
   ]
  },
  {
   "cell_type": "code",
   "execution_count": 4,
   "metadata": {},
   "outputs": [
    {
     "name": "stdout",
     "output_type": "stream",
     "text": [
      "Loading X_validate...\n",
      "Loading X_test...\n",
      "Loading labels...\n",
      "Running time: 94.2662079334259 seconds\n"
     ]
    }
   ],
   "source": [
    "from time import time\n",
    "import numpy as np\n",
    "\n",
    "start_time = time()\n",
    "\n",
    "print('Loading X_validate...')\n",
    "X_validate = np.load('/home/zxt/data/final_22/224/2k/X_validate.npy')\n",
    "\n",
    "print('Loading X_test...')\n",
    "X_test = np.load('/home/zxt/data/final_22/224/2k/X_test.npy')\n",
    "\n",
    "print('Loading labels...')\n",
    "Y_train = np.load('/home/zxt/data/final_22/224/2k/Y_train.npy')\n",
    "Y_validate = np.load('/home/zxt/data/final_22/224/2k/Y_validate.npy')\n",
    "Y_test = np.load('/home/zxt/data/final_22/224/2k/Y_test.npy')\n",
    "\n",
    "end_time = time()\n",
    "print('Running time: %s seconds'%(end_time - start_time))"
   ]
  },
  {
   "cell_type": "code",
   "execution_count": 5,
   "metadata": {},
   "outputs": [
    {
     "name": "stdout",
     "output_type": "stream",
     "text": [
      "X_train shape: (35200, 224, 224, 3)\n",
      "35200 train samples\n",
      "4400 validate samples\n",
      "4400 test samples\n"
     ]
    }
   ],
   "source": [
    "print('X_train shape:', X_train.shape)\n",
    "print(X_train.shape[0], 'train samples')\n",
    "print(X_validate.shape[0], 'validate samples')\n",
    "print(X_test.shape[0], 'test samples')"
   ]
  },
  {
   "cell_type": "code",
   "execution_count": 6,
   "metadata": {},
   "outputs": [],
   "source": [
    "X_train /=255.\n",
    "X_validate /=  255.\n",
    "X_test /= 255."
   ]
  },
  {
   "cell_type": "code",
   "execution_count": 7,
   "metadata": {},
   "outputs": [],
   "source": [
    "Y_train = np.load('/home/zxt/data/final_22/224/2k/Y_train.npy')\n",
    "Y_validate = np.load('/home/zxt/data/final_22/224/2k/Y_validate.npy')\n",
    "Y_test = np.load('/home/zxt/data/final_22/224/2k/Y_test.npy')"
   ]
  },
  {
   "cell_type": "code",
   "execution_count": 8,
   "metadata": {},
   "outputs": [
    {
     "data": {
      "text/plain": [
       "array([['guineafowl'],\n",
       "       ['lion'],\n",
       "       ['wildebeest'],\n",
       "       ...,\n",
       "       ['buffalo'],\n",
       "       ['hare'],\n",
       "       ['black_bear']], dtype='<U16')"
      ]
     },
     "execution_count": 8,
     "metadata": {},
     "output_type": "execute_result"
    }
   ],
   "source": [
    "Y_test"
   ]
  },
  {
   "cell_type": "code",
   "execution_count": 9,
   "metadata": {},
   "outputs": [],
   "source": [
    "# Y_train label\n",
    "for i in Y_train:\n",
    "    if i[0]=='elephant':\n",
    "        i[0]=0\n",
    "    if i[0]=='wild_boar':\n",
    "        i[0]=1\n",
    "    if i[0]=='gazellethomosons':\n",
    "        i[0]=2\n",
    "    if i[0]=='squirrel':\n",
    "        i[0]=3 \n",
    "    if i[0]=='hedgehog':\n",
    "        i[0]=4\n",
    "    if i[0]=='guineafowl':\n",
    "        i[0]=5\n",
    "    if i[0]=='moose':\n",
    "        i[0]=6\n",
    "    if i[0]=='coyote':\n",
    "        i[0]=7   \n",
    "    if i[0]=='bird':\n",
    "        i[0]=8\n",
    "    if i[0]=='fox':\n",
    "        i[0]=9\n",
    "    if i[0]=='giraffe':\n",
    "        i[0]=10\n",
    "    if i[0]=='buffalo':\n",
    "        i[0]=11\n",
    "    if i[0]=='hare':\n",
    "        i[0]=12\n",
    "    if i[0]=='vehicle':\n",
    "        i[0]=13\n",
    "    if i[0]=='wildebeest':\n",
    "        i[0]=14\n",
    "    if i[0]=='cattle':\n",
    "        i[0]=15 \n",
    "    if i[0]=='skunk':\n",
    "        i[0]=16\n",
    "    if i[0]=='lion':\n",
    "        i[0]=17\n",
    "    if i[0]=='zebra':\n",
    "        i[0]=18\n",
    "    if i[0]=='black_bear':\n",
    "        i[0]=19\n",
    "    if i[0]=='racoon':\n",
    "        i[0]=20\n",
    "    if i[0]=='empty':\n",
    "        i[0]=21\n",
    "        \n",
    "for i in Y_validate:\n",
    "    if i[0]=='elephant':\n",
    "        i[0]=0\n",
    "    if i[0]=='wild_boar':\n",
    "        i[0]=1\n",
    "    if i[0]=='gazellethomosons':\n",
    "        i[0]=2\n",
    "    if i[0]=='squirrel':\n",
    "        i[0]=3 \n",
    "    if i[0]=='hedgehog':\n",
    "        i[0]=4\n",
    "    if i[0]=='guineafowl':\n",
    "        i[0]=5\n",
    "    if i[0]=='moose':\n",
    "        i[0]=6\n",
    "    if i[0]=='coyote':\n",
    "        i[0]=7   \n",
    "    if i[0]=='bird':\n",
    "        i[0]=8\n",
    "    if i[0]=='fox':\n",
    "        i[0]=9\n",
    "    if i[0]=='giraffe':\n",
    "        i[0]=10\n",
    "    if i[0]=='buffalo':\n",
    "        i[0]=11\n",
    "    if i[0]=='hare':\n",
    "        i[0]=12\n",
    "    if i[0]=='vehicle':\n",
    "        i[0]=13\n",
    "    if i[0]=='wildebeest':\n",
    "        i[0]=14\n",
    "    if i[0]=='cattle':\n",
    "        i[0]=15 \n",
    "    if i[0]=='skunk':\n",
    "        i[0]=16\n",
    "    if i[0]=='lion':\n",
    "        i[0]=17\n",
    "    if i[0]=='zebra':\n",
    "        i[0]=18\n",
    "    if i[0]=='black_bear':\n",
    "        i[0]=19\n",
    "    if i[0]=='racoon':\n",
    "        i[0]=20\n",
    "    if i[0]=='empty':\n",
    "        i[0]=21\n",
    "\n",
    "for i in Y_test:\n",
    "    if i[0]=='elephant':\n",
    "        i[0]=0\n",
    "    if i[0]=='wild_boar':\n",
    "        i[0]=1\n",
    "    if i[0]=='gazellethomosons':\n",
    "        i[0]=2\n",
    "    if i[0]=='squirrel':\n",
    "        i[0]=3 \n",
    "    if i[0]=='hedgehog':\n",
    "        i[0]=4\n",
    "    if i[0]=='guineafowl':\n",
    "        i[0]=5\n",
    "    if i[0]=='moose':\n",
    "        i[0]=6\n",
    "    if i[0]=='coyote':\n",
    "        i[0]=7   \n",
    "    if i[0]=='bird':\n",
    "        i[0]=8\n",
    "    if i[0]=='fox':\n",
    "        i[0]=9\n",
    "    if i[0]=='giraffe':\n",
    "        i[0]=10\n",
    "    if i[0]=='buffalo':\n",
    "        i[0]=11\n",
    "    if i[0]=='hare':\n",
    "        i[0]=12\n",
    "    if i[0]=='vehicle':\n",
    "        i[0]=13\n",
    "    if i[0]=='wildebeest':\n",
    "        i[0]=14\n",
    "    if i[0]=='cattle':\n",
    "        i[0]=15 \n",
    "    if i[0]=='skunk':\n",
    "        i[0]=16\n",
    "    if i[0]=='lion':\n",
    "        i[0]=17\n",
    "    if i[0]=='zebra':\n",
    "        i[0]=18\n",
    "    if i[0]=='black_bear':\n",
    "        i[0]=19\n",
    "    if i[0]=='racoon':\n",
    "        i[0]=20\n",
    "    if i[0]=='empty':\n",
    "        i[0]=21"
   ]
  },
  {
   "cell_type": "code",
   "execution_count": 10,
   "metadata": {},
   "outputs": [],
   "source": [
    "from keras.utils import np_utils\n",
    "y_train=np_utils.to_categorical(Y_train,22)\n",
    "y_valid=np_utils.to_categorical(Y_validate,22)\n",
    "y_test=np_utils.to_categorical(Y_test,22)"
   ]
  },
  {
   "cell_type": "code",
   "execution_count": 11,
   "metadata": {},
   "outputs": [
    {
     "data": {
      "text/plain": [
       "array([[0., 0., 0., ..., 0., 0., 0.],\n",
       "       [0., 0., 0., ..., 0., 0., 0.],\n",
       "       [0., 0., 0., ..., 0., 0., 0.],\n",
       "       ...,\n",
       "       [0., 0., 0., ..., 0., 0., 0.],\n",
       "       [0., 0., 0., ..., 0., 0., 0.],\n",
       "       [0., 0., 0., ..., 1., 0., 0.]], dtype=float32)"
      ]
     },
     "execution_count": 11,
     "metadata": {},
     "output_type": "execute_result"
    }
   ],
   "source": [
    "y_test"
   ]
  },
  {
   "cell_type": "markdown",
   "metadata": {},
   "source": [
    "### 2.Model structure"
   ]
  },
  {
   "cell_type": "code",
   "execution_count": 12,
   "metadata": {},
   "outputs": [],
   "source": [
    "def alexnet_s(input_shape, n_classes):\n",
    "    input = Input(input_shape)\n",
    "  \n",
    "    # actually batch normalization didn't exist back then\n",
    "    # they used LRN (Local Response Normalization) for regularization\n",
    "    x = Conv2D(96, 11, strides=4, padding='same', activation='relu')(input)\n",
    "    x = BatchNormalization()(x)\n",
    "    x = MaxPool2D(3, strides=2)(x)\n",
    "  \n",
    "    x = Conv2D(256, 5, padding='same', activation='relu')(x)\n",
    "    x = BatchNormalization()(x)\n",
    "    x = MaxPool2D(3, strides=2)(x)\n",
    "  \n",
    "    x = Conv2D(384, 3, strides=1, padding='same', activation='relu')(x)\n",
    "  \n",
    "    x = Conv2D(384, 3, strides=1, padding='same', activation='relu')(x)\n",
    "  \n",
    "    x = Conv2D(256, 3, strides=1, padding='same', activation='relu')(x)\n",
    "    x = BatchNormalization()(x)\n",
    "    x = MaxPool2D(3, strides=2)(x)\n",
    "  \n",
    "    x = Flatten()(x)\n",
    "    x = Dense(4096, activation='relu')(x)\n",
    "    x = Dense(4096, activation='relu')(x)\n",
    "    \n",
    "    # S: add two more layers to train\n",
    "    x = Dropout(0.4)(x)\n",
    "    x = Dense(4096,activation='relu')(x)\n",
    "    x = Dropout(0.4)(x)\n",
    "    x = Dense(4096,activation='relu')(x)\n",
    "    \n",
    "  \n",
    "    output = Dense(n_classes, activation='softmax')(x)\n",
    "  \n",
    "    model = Model(input, output)\n",
    "    return model"
   ]
  },
  {
   "cell_type": "code",
   "execution_count": 13,
   "metadata": {},
   "outputs": [],
   "source": [
    "# prevent overfitting\n",
    "early_stopping = EarlyStopping(monitor='val_loss', patience=10, verbose=1)"
   ]
  },
  {
   "cell_type": "markdown",
   "metadata": {},
   "source": [
    "### 3.Modeling"
   ]
  },
  {
   "cell_type": "code",
   "execution_count": 14,
   "metadata": {},
   "outputs": [],
   "source": [
    "num_train_samples = len(Y_train)\n",
    "num_val_samples = len(Y_validate)\n",
    "batch_size = 128\n",
    "epochs = 30\n",
    "n_classes = 22\n",
    "input_shape = 224,224,3\n",
    "\n",
    "learning_rate = 0.01\n",
    "decay_rate = learning_rate / epochs\n",
    "momentum = 0.8\n",
    "sgd = SGD(lr=learning_rate, momentum=momentum, decay=decay_rate, nesterov=False)"
   ]
  },
  {
   "cell_type": "code",
   "execution_count": 15,
   "metadata": {},
   "outputs": [],
   "source": [
    "K.clear_session()\n",
    "model = alexnet_s(input_shape, n_classes)\n",
    "# model.summary()"
   ]
  },
  {
   "cell_type": "code",
   "execution_count": 16,
   "metadata": {},
   "outputs": [],
   "source": [
    "model.compile(loss='categorical_crossentropy',optimizer=sgd,metrics=['accuracy'])"
   ]
  },
  {
   "cell_type": "code",
   "execution_count": 17,
   "metadata": {},
   "outputs": [
    {
     "name": "stdout",
     "output_type": "stream",
     "text": [
      "Training model...\n",
      "Train on 35200 samples, validate on 4400 samples\n",
      "Epoch 1/30\n",
      "35200/35200 [==============================] - 184s 5ms/step - loss: 1.9276 - accuracy: 0.3617 - val_loss: 1.8051 - val_accuracy: 0.4077\n",
      "Epoch 2/30\n",
      "35200/35200 [==============================] - 173s 5ms/step - loss: 1.3762 - accuracy: 0.5170 - val_loss: 1.4215 - val_accuracy: 0.5023\n",
      "Epoch 3/30\n",
      "35200/35200 [==============================] - 173s 5ms/step - loss: 1.1589 - accuracy: 0.5967 - val_loss: 1.1319 - val_accuracy: 0.6175\n",
      "Epoch 4/30\n",
      "35200/35200 [==============================] - 173s 5ms/step - loss: 1.0164 - accuracy: 0.6450 - val_loss: 1.2832 - val_accuracy: 0.5680\n",
      "Epoch 5/30\n",
      "35200/35200 [==============================] - 173s 5ms/step - loss: 0.8913 - accuracy: 0.6888 - val_loss: 0.9246 - val_accuracy: 0.6907\n",
      "Epoch 6/30\n",
      "35200/35200 [==============================] - 173s 5ms/step - loss: 0.7882 - accuracy: 0.7246 - val_loss: 0.9018 - val_accuracy: 0.6989\n",
      "Epoch 7/30\n",
      "35200/35200 [==============================] - 173s 5ms/step - loss: 0.6874 - accuracy: 0.7626 - val_loss: 1.1393 - val_accuracy: 0.6202\n",
      "Epoch 8/30\n",
      "35200/35200 [==============================] - 173s 5ms/step - loss: 0.5988 - accuracy: 0.7915 - val_loss: 0.7991 - val_accuracy: 0.7402\n",
      "Epoch 9/30\n",
      "35200/35200 [==============================] - 173s 5ms/step - loss: 0.5200 - accuracy: 0.8188 - val_loss: 0.8462 - val_accuracy: 0.7234\n",
      "Epoch 10/30\n",
      "35200/35200 [==============================] - 173s 5ms/step - loss: 0.4442 - accuracy: 0.8446 - val_loss: 0.7389 - val_accuracy: 0.7695\n",
      "Epoch 11/30\n",
      "35200/35200 [==============================] - 173s 5ms/step - loss: 0.3836 - accuracy: 0.8661 - val_loss: 0.7972 - val_accuracy: 0.7634\n",
      "Epoch 12/30\n",
      "35200/35200 [==============================] - 173s 5ms/step - loss: 0.3250 - accuracy: 0.8866 - val_loss: 0.8075 - val_accuracy: 0.7589\n",
      "Epoch 13/30\n",
      "35200/35200 [==============================] - 174s 5ms/step - loss: 0.2687 - accuracy: 0.9059 - val_loss: 0.7736 - val_accuracy: 0.7893\n",
      "Epoch 14/30\n",
      "35200/35200 [==============================] - 173s 5ms/step - loss: 0.2251 - accuracy: 0.9222 - val_loss: 0.7785 - val_accuracy: 0.7889\n",
      "Epoch 15/30\n",
      "35200/35200 [==============================] - 173s 5ms/step - loss: 0.1966 - accuracy: 0.9325 - val_loss: 0.8547 - val_accuracy: 0.7920\n",
      "Epoch 16/30\n",
      "35200/35200 [==============================] - 173s 5ms/step - loss: 0.1675 - accuracy: 0.9434 - val_loss: 0.8304 - val_accuracy: 0.7955\n",
      "Epoch 17/30\n",
      "35200/35200 [==============================] - 173s 5ms/step - loss: 0.1442 - accuracy: 0.9497 - val_loss: 0.8219 - val_accuracy: 0.8032\n",
      "Epoch 18/30\n",
      "35200/35200 [==============================] - 173s 5ms/step - loss: 0.1258 - accuracy: 0.9571 - val_loss: 0.8764 - val_accuracy: 0.8041\n",
      "Epoch 19/30\n",
      "35200/35200 [==============================] - 173s 5ms/step - loss: 0.1061 - accuracy: 0.9644 - val_loss: 0.9070 - val_accuracy: 0.8164\n",
      "Epoch 20/30\n",
      "35200/35200 [==============================] - 174s 5ms/step - loss: 0.0934 - accuracy: 0.9687 - val_loss: 0.8526 - val_accuracy: 0.8130\n",
      "Epoch 21/30\n",
      "35200/35200 [==============================] - 173s 5ms/step - loss: 0.0778 - accuracy: 0.9738 - val_loss: 1.0456 - val_accuracy: 0.8039\n",
      "Epoch 22/30\n",
      "35200/35200 [==============================] - 173s 5ms/step - loss: 0.0689 - accuracy: 0.9779 - val_loss: 0.9252 - val_accuracy: 0.8191\n",
      "Epoch 23/30\n",
      "35200/35200 [==============================] - 173s 5ms/step - loss: 0.0639 - accuracy: 0.9784 - val_loss: 0.9009 - val_accuracy: 0.8193\n",
      "Epoch 24/30\n",
      "35200/35200 [==============================] - 174s 5ms/step - loss: 0.0512 - accuracy: 0.9829 - val_loss: 0.9936 - val_accuracy: 0.8180\n",
      "Epoch 25/30\n",
      "35200/35200 [==============================] - 174s 5ms/step - loss: 0.0512 - accuracy: 0.9831 - val_loss: 1.0529 - val_accuracy: 0.8077\n",
      "Epoch 26/30\n",
      "35200/35200 [==============================] - 174s 5ms/step - loss: 0.0422 - accuracy: 0.9864 - val_loss: 1.0076 - val_accuracy: 0.8225\n",
      "Epoch 27/30\n",
      "35200/35200 [==============================] - 174s 5ms/step - loss: 0.0379 - accuracy: 0.9877 - val_loss: 0.9726 - val_accuracy: 0.8252\n",
      "Epoch 28/30\n",
      "35200/35200 [==============================] - 174s 5ms/step - loss: 0.0327 - accuracy: 0.9893 - val_loss: 1.0570 - val_accuracy: 0.8243\n",
      "Epoch 29/30\n",
      "35200/35200 [==============================] - 174s 5ms/step - loss: 0.0295 - accuracy: 0.9907 - val_loss: 1.0523 - val_accuracy: 0.8220\n",
      "Epoch 30/30\n",
      "35200/35200 [==============================] - 174s 5ms/step - loss: 0.0292 - accuracy: 0.9906 - val_loss: 1.0637 - val_accuracy: 0.8252\n",
      "Running time: 5214.322328567505 seconds\n"
     ]
    }
   ],
   "source": [
    "start_time = time()\n",
    "print('Training model...')\n",
    "\n",
    "\n",
    "hist = model.fit(\n",
    "    X_train, \n",
    "    y_train,\n",
    "    batch_size=batch_size,\n",
    "    epochs=epochs,\n",
    "#     callbacks=[early_stopping],\n",
    "    validation_data = (X_validate,y_valid))\n",
    "\n",
    "end_time = time()\n",
    "print('Running time: %s seconds'%(end_time - start_time))"
   ]
  },
  {
   "cell_type": "code",
   "execution_count": 19,
   "metadata": {},
   "outputs": [],
   "source": [
    "model.save('/home/zxt/data/final_22/model/224_2k/alexnet_s_30epoch.h5')\n",
    "model.save_weights('/home/zxt/data/final_22/model/224_2k/alexnet_s_30epoch_weights.h5')"
   ]
  },
  {
   "cell_type": "markdown",
   "metadata": {},
   "source": [
    "### 4.Evaluation"
   ]
  },
  {
   "cell_type": "code",
   "execution_count": 21,
   "metadata": {},
   "outputs": [
    {
     "data": {
      "text/plain": [
       "<matplotlib.axes._subplots.AxesSubplot at 0x7ef09c45d310>"
      ]
     },
     "execution_count": 21,
     "metadata": {},
     "output_type": "execute_result"
    },
    {
     "data": {
      "image/png": "[encoded data removed]",
      "text/plain": [
       "<Figure size 432x288 with 1 Axes>"
      ]
     },
     "metadata": {
      "needs_background": "light"
     },
     "output_type": "display_data"
    },
    {
     "data": {
      "image/png": "[encoded data removed]",
      "text/plain": [
       "<Figure size 432x288 with 1 Axes>"
      ]
     },
     "metadata": {
      "needs_background": "light"
     },
     "output_type": "display_data"
    }
   ],
   "source": [
    "history_df = pd.DataFrame(hist.history)\n",
    "history_df[['loss', 'val_loss']].plot()\n",
    "history_df[['accuracy', 'val_accuracy']].plot()"
   ]
  },
  {
   "cell_type": "markdown",
   "metadata": {},
   "source": [
    "### 5.Prediction on X_test dataset"
   ]
  },
  {
   "cell_type": "code",
   "execution_count": 22,
   "metadata": {},
   "outputs": [
    {
     "name": "stdout",
     "output_type": "stream",
     "text": [
      "4400/4400 [==============================] - 13s 3ms/step\n",
      "\n",
      "test loss 1.0215469255095178\n",
      "accuracy 0.822954535484314\n"
     ]
    }
   ],
   "source": [
    "loss,accuracy = model.evaluate(X_test,y_test)\n",
    "print('\\ntest loss',loss)\n",
    "print('accuracy',accuracy)"
   ]
  },
  {
   "cell_type": "code",
   "execution_count": 23,
   "metadata": {},
   "outputs": [],
   "source": [
    "y_pred = model.predict(X_test,batch_size=1)"
   ]
  },
  {
   "cell_type": "code",
   "execution_count": 24,
   "metadata": {},
   "outputs": [
    {
     "data": {
      "text/plain": [
       "array([[4.3376565e-16, 1.5084010e-20, 3.6485742e-11, ..., 1.6784633e-24,\n",
       "        1.4200040e-20, 6.3928626e-16],\n",
       "       [1.5171839e-09, 1.7734868e-13, 9.8311432e-07, ..., 3.8371045e-13,\n",
       "        7.6457953e-13, 9.3227016e-11],\n",
       "       [1.4368746e-07, 4.5773136e-16, 1.5108137e-10, ..., 4.0014549e-19,\n",
       "        2.8742157e-17, 6.4205775e-13],\n",
       "       ...,\n",
       "       [2.8194419e-01, 2.8589835e-07, 6.8550982e-08, ..., 8.7515765e-11,\n",
       "        2.4836342e-09, 1.0654555e-06],\n",
       "       [6.1530967e-16, 7.2726188e-14, 5.1848821e-14, ..., 4.5552884e-08,\n",
       "        4.6151069e-12, 4.1589846e-14],\n",
       "       [1.4429199e-09, 3.3852473e-04, 4.5949881e-15, ..., 9.7535163e-02,\n",
       "        6.4672291e-15, 3.3090477e-14]], dtype=float32)"
      ]
     },
     "execution_count": 24,
     "metadata": {},
     "output_type": "execute_result"
    }
   ],
   "source": [
    "y_pred"
   ]
  },
  {
   "cell_type": "code",
   "execution_count": 25,
   "metadata": {},
   "outputs": [
    {
     "data": {
      "text/plain": [
       "4400"
      ]
     },
     "execution_count": 25,
     "metadata": {},
     "output_type": "execute_result"
    }
   ],
   "source": [
    "len(y_pred)"
   ]
  },
  {
   "cell_type": "markdown",
   "metadata": {},
   "source": [
    "### 6.Check each category recall"
   ]
  },
  {
   "cell_type": "code",
   "execution_count": 26,
   "metadata": {},
   "outputs": [],
   "source": [
    "a = list(y_pred)\n",
    "y_prediction=[]\n",
    "for i in a:\n",
    "    j =list(i)\n",
    "    y_prediction.append(j.index(max(j)))"
   ]
  },
  {
   "cell_type": "code",
   "execution_count": 27,
   "metadata": {},
   "outputs": [
    {
     "data": {
      "text/plain": [
       "[5, 17, 14, 7, 7]"
      ]
     },
     "execution_count": 27,
     "metadata": {},
     "output_type": "execute_result"
    }
   ],
   "source": [
    "y_prediction[:5]"
   ]
  },
  {
   "cell_type": "code",
   "execution_count": 28,
   "metadata": {},
   "outputs": [
    {
     "data": {
      "text/plain": [
       "array([['5'],\n",
       "       ['17'],\n",
       "       ['14'],\n",
       "       ['7'],\n",
       "       ['7']], dtype='<U16')"
      ]
     },
     "execution_count": 28,
     "metadata": {},
     "output_type": "execute_result"
    }
   ],
   "source": [
    "Y_test[:5]"
   ]
  },
  {
   "cell_type": "code",
   "execution_count": 29,
   "metadata": {},
   "outputs": [],
   "source": [
    "# array to dataframe\n",
    "y_real=pd.DataFrame(Y_test,columns=['label'])"
   ]
  },
  {
   "cell_type": "code",
   "execution_count": 30,
   "metadata": {},
   "outputs": [],
   "source": [
    "y_predict = pd.DataFrame(y_prediction,columns=['label_pre'])"
   ]
  },
  {
   "cell_type": "code",
   "execution_count": 31,
   "metadata": {},
   "outputs": [],
   "source": [
    "prediction_df = pd.concat([y_real,y_predict],axis=1)\n",
    "prediction_df['label']=prediction_df['label'].astype(int)\n",
    "prediction_df['diff']=prediction_df['label']-prediction_df['label_pre']\n"
   ]
  },
  {
   "cell_type": "code",
   "execution_count": 32,
   "metadata": {},
   "outputs": [
    {
     "data": {
      "text/html": [
       "<div>\n",
       "<style scoped>\n",
       "    .dataframe tbody tr th:only-of-type {\n",
       "        vertical-align: middle;\n",
       "    }\n",
       "\n",
       "    .dataframe tbody tr th {\n",
       "        vertical-align: top;\n",
       "    }\n",
       "\n",
       "    .dataframe thead th {\n",
       "        text-align: right;\n",
       "    }\n",
       "</style>\n",
       "<table border=\"1\" class=\"dataframe\">\n",
       "  <thead>\n",
       "    <tr style=\"text-align: right;\">\n",
       "      <th></th>\n",
       "      <th>label</th>\n",
       "      <th>label_pre</th>\n",
       "      <th>diff</th>\n",
       "    </tr>\n",
       "  </thead>\n",
       "  <tbody>\n",
       "    <tr>\n",
       "      <td>0</td>\n",
       "      <td>5</td>\n",
       "      <td>5</td>\n",
       "      <td>0</td>\n",
       "    </tr>\n",
       "    <tr>\n",
       "      <td>1</td>\n",
       "      <td>17</td>\n",
       "      <td>17</td>\n",
       "      <td>0</td>\n",
       "    </tr>\n",
       "    <tr>\n",
       "      <td>2</td>\n",
       "      <td>14</td>\n",
       "      <td>14</td>\n",
       "      <td>0</td>\n",
       "    </tr>\n",
       "    <tr>\n",
       "      <td>3</td>\n",
       "      <td>7</td>\n",
       "      <td>7</td>\n",
       "      <td>0</td>\n",
       "    </tr>\n",
       "    <tr>\n",
       "      <td>4</td>\n",
       "      <td>7</td>\n",
       "      <td>7</td>\n",
       "      <td>0</td>\n",
       "    </tr>\n",
       "    <tr>\n",
       "      <td>...</td>\n",
       "      <td>...</td>\n",
       "      <td>...</td>\n",
       "      <td>...</td>\n",
       "    </tr>\n",
       "    <tr>\n",
       "      <td>4395</td>\n",
       "      <td>1</td>\n",
       "      <td>1</td>\n",
       "      <td>0</td>\n",
       "    </tr>\n",
       "    <tr>\n",
       "      <td>4396</td>\n",
       "      <td>12</td>\n",
       "      <td>12</td>\n",
       "      <td>0</td>\n",
       "    </tr>\n",
       "    <tr>\n",
       "      <td>4397</td>\n",
       "      <td>11</td>\n",
       "      <td>11</td>\n",
       "      <td>0</td>\n",
       "    </tr>\n",
       "    <tr>\n",
       "      <td>4398</td>\n",
       "      <td>12</td>\n",
       "      <td>12</td>\n",
       "      <td>0</td>\n",
       "    </tr>\n",
       "    <tr>\n",
       "      <td>4399</td>\n",
       "      <td>19</td>\n",
       "      <td>15</td>\n",
       "      <td>4</td>\n",
       "    </tr>\n",
       "  </tbody>\n",
       "</table>\n",
       "<p>4400 rows × 3 columns</p>\n",
       "</div>"
      ],
      "text/plain": [
       "      label  label_pre  diff\n",
       "0         5          5     0\n",
       "1        17         17     0\n",
       "2        14         14     0\n",
       "3         7          7     0\n",
       "4         7          7     0\n",
       "...     ...        ...   ...\n",
       "4395      1          1     0\n",
       "4396     12         12     0\n",
       "4397     11         11     0\n",
       "4398     12         12     0\n",
       "4399     19         15     4\n",
       "\n",
       "[4400 rows x 3 columns]"
      ]
     },
     "execution_count": 32,
     "metadata": {},
     "output_type": "execute_result"
    }
   ],
   "source": [
    "prediction_df"
   ]
  },
  {
   "cell_type": "code",
   "execution_count": 33,
   "metadata": {},
   "outputs": [],
   "source": [
    "prediction_df.to_csv(r'/home/zxt/data/final_22/prediction/alexnet_s_predictdiff.csv',index=False)"
   ]
  },
  {
   "cell_type": "code",
   "execution_count": 38,
   "metadata": {},
   "outputs": [
    {
     "name": "stdout",
     "output_type": "stream",
     "text": [
      "elephant recall:      0.731\n",
      "wild_boar recall:      0.746\n",
      "gazellethomosons recall:      0.800\n",
      "squirrel recall:      0.848\n",
      "hedgehog recall:      0.990\n",
      "guineafowl recall:      0.922\n",
      "moose recall:      0.968\n",
      "coyote recall:      0.809\n",
      "bird recall:      0.791\n",
      "fox recall:      0.825\n",
      "giraffe recall:      0.917\n",
      "buffalo recall:      0.788\n",
      "hare recall:      0.982\n",
      "vehicle recall:      0.904\n",
      "wildebeest recall:      0.667\n",
      "cattle recall:      0.680\n",
      "skunk recall:      0.867\n",
      "lion recall:      0.678\n",
      "zebra recall:      0.682\n",
      "black_bear recall:      0.800\n",
      "racoon recall:      0.912\n",
      "empty recall:      0.776\n"
     ]
    }
   ],
   "source": [
    "onehot_keylist = ['elephant','wild_boar','gazellethomosons','squirrel','hedgehog','guineafowl','moose','coyote','bird',\n",
    "                  'fox','giraffe','buffalo','hare','vehicle','wildebeest','cattle','skunk','lion','zebra','black_bear',\n",
    "                  'racoon','empty']\n",
    "onehot_dict = {'elephant':0,'wild_boar':1,'gazellethomosons':2,'squirrel':3,'hedgehog':4,'guineafowl':5,'moose':6,'coyote':7,\n",
    "              'bird':8,'fox':9,'giraffe':10,'buffalo':11,'hare':12,'vehicle':13,'wildebeest':14,'cattle':15,'skunk':16,'lion':17,\n",
    "              'zebra':18,'black_bear':19,'racoon':20,'empty':21}\n",
    "\n",
    "for animal in onehot_keylist:\n",
    "    name = animal\n",
    "    animal = prediction_df[prediction_df['label']== onehot_dict[animal]]\n",
    "    acc = animal.loc[:,'diff'].value_counts()[0]/len(animal)\n",
    "    print(\"%s recall: %10.3f\" %(name,acc) )"
   ]
  },
  {
   "cell_type": "markdown",
   "metadata": {},
   "source": [
    "### 7.Confusion Matrix"
   ]
  },
  {
   "cell_type": "code",
   "execution_count": 35,
   "metadata": {},
   "outputs": [],
   "source": [
    "animal_label_dict = {0:'elephant',1:'wild_boar',2:'gazellethomosons',3:'squirrel',4:'hedgehog',\n",
    "                    5:'guineafowl',6:'moose',7:'coyote',8:'bird',9:'fox',10:'giraffe',\n",
    "                    11:'buffalo',12:'hare',13:'vehicle',14:'wildebeest',15:'cattle',\n",
    "                    16:'skunk',17:'lion',18:'zebra',19:'black_bear',20:'racoon',21:'empty'}     \n",
    "labels=[]\n",
    "for i in range(0,22):\n",
    "    name = animal_label_dict[i]\n",
    "    labels.append(name)"
   ]
  },
  {
   "cell_type": "code",
   "execution_count": 36,
   "metadata": {},
   "outputs": [
    {
     "data": {
      "text/plain": [
       "<matplotlib.axes._subplots.AxesSubplot at 0x7ef07a92b490>"
      ]
     },
     "execution_count": 36,
     "metadata": {},
     "output_type": "execute_result"
    },
    {
     "data": {
      "image/png": "[encoded data removed]",
      "text/plain": [
       "<Figure size 864x720 with 2 Axes>"
      ]
     },
     "metadata": {
      "needs_background": "light"
     },
     "output_type": "display_data"
    }
   ],
   "source": [
    "%matplotlib inline\n",
    "C2=confusion_matrix(prediction_df['label'],prediction_df['label_pre'], labels=[0,1,2,3,4,5,6,7,8,9,10,11,12,13,14,15,16,17,18,19,20,21])\n",
    "plt.figure(figsize=(12,10))\n",
    "sns.heatmap(C2,annot=True,cmap=\"Blues\",xticklabels=labels,yticklabels=labels,fmt='.20g')"
   ]
  },
  {
   "cell_type": "markdown",
   "metadata": {},
   "source": [
    "### 8.Precision, recall, f1 score"
   ]
  },
  {
   "cell_type": "code",
   "execution_count": 37,
   "metadata": {},
   "outputs": [
    {
     "name": "stdout",
     "output_type": "stream",
     "text": [
      "              precision    recall  f1-score   support\n",
      "\n",
      "           0       0.71      0.73      0.72       201\n",
      "           1       0.71      0.75      0.73       185\n",
      "           2       0.91      0.80      0.85       200\n",
      "           3       0.86      0.85      0.85       198\n",
      "           4       0.99      0.99      0.99       208\n",
      "           5       0.87      0.92      0.89       204\n",
      "           6       0.92      0.97      0.94       217\n",
      "           7       0.79      0.81      0.80       199\n",
      "           8       0.84      0.79      0.82       196\n",
      "           9       0.86      0.82      0.84       211\n",
      "          10       0.78      0.92      0.84       192\n",
      "          11       0.78      0.79      0.78       208\n",
      "          12       0.93      0.98      0.96       217\n",
      "          13       0.81      0.90      0.85       178\n",
      "          14       0.67      0.67      0.67       195\n",
      "          15       0.77      0.68      0.72       200\n",
      "          16       0.85      0.87      0.86       210\n",
      "          17       0.80      0.68      0.74       199\n",
      "          18       0.70      0.68      0.69       192\n",
      "          19       0.78      0.80      0.79       185\n",
      "          20       0.86      0.91      0.88       182\n",
      "          21       0.89      0.78      0.83       223\n",
      "\n",
      "    accuracy                           0.82      4400\n",
      "   macro avg       0.82      0.82      0.82      4400\n",
      "weighted avg       0.82      0.82      0.82      4400\n",
      "\n"
     ]
    }
   ],
   "source": [
    "from sklearn.metrics import confusion_matrix, accuracy_score, classification_report\n",
    "print(classification_report(prediction_df['label'],prediction_df['label_pre']))"
   ]
  },
  {
   "cell_type": "code",
   "execution_count": null,
   "metadata": {},
   "outputs": [],
   "source": []
  },
  {
   "cell_type": "code",
   "execution_count": null,
   "metadata": {},
   "outputs": [],
   "source": []
  },
  {
   "cell_type": "code",
   "execution_count": null,
   "metadata": {},
   "outputs": [],
   "source": []
  }
 ],
 "metadata": {
  "kernelspec": {
   "display_name": "Python 3",
   "language": "python",
   "name": "python3"
  },
  "language_info": {
   "codemirror_mode": {
    "name": "ipython",
    "version": 3
   },
   "file_extension": ".py",
   "mimetype": "text/x-python",
   "name": "python",
   "nbconvert_exporter": "python",
   "pygments_lexer": "ipython3",
   "version": "3.7.4"
  }
 },
 "nbformat": 4,
 "nbformat_minor": 4
}
