{
 "cells": [
  {
   "cell_type": "code",
   "execution_count": 1,
   "metadata": {},
   "outputs": [],
   "source": [
    "%%capture\n",
    "import keras\n",
    "import keras.backend as K\n",
    "from keras.models import Model\n",
    "from keras.layers import Input, Dense, Conv2D, Conv3D, DepthwiseConv2D, SeparableConv2D, Conv3DTranspose\n",
    "from keras.layers import Flatten, MaxPool2D, AvgPool2D, GlobalAvgPool2D, UpSampling2D, BatchNormalization\n",
    "from keras.layers import Concatenate, Add, Dropout, ReLU, Lambda, Activation, LeakyReLU, PReLU\n",
    "from keras.utils import np_utils\n",
    "from IPython.display import SVG\n",
    "from keras.utils.vis_utils import model_to_dot\n",
    "from keras.optimizers import SGD\n",
    "from time import time\n",
    "from keras.callbacks import EarlyStopping\n",
    "from sklearn.metrics import confusion_matrix, f1_score, precision_score, recall_score\n",
    "from keras.callbacks import Callback\n",
    "from keras.utils import multi_gpu_model\n",
    "\n",
    "import numpy as np\n",
    "import pandas as pd\n",
    "import matplotlib, os, math\n",
    "\n",
    "\n",
    "from keras.models import Sequential\n",
    "from keras.layers import Activation\n",
    "from keras.layers.core import Dense, Flatten\n",
    "from keras.optimizers import Adam\n",
    "from keras.metrics import categorical_crossentropy\n",
    "from keras.preprocessing.image import ImageDataGenerator\n",
    "from keras.layers.normalization import BatchNormalization\n",
    "from keras.layers.convolutional import *\n",
    "from sklearn.metrics import confusion_matrix\n",
    "from keras.applications.vgg16 import VGG16\n",
    "import itertools\n",
    "import matplotlib.pyplot as plt\n",
    "%matplotlib inline\n",
    "\n",
    "os.environ[\"CUDA_VISIBLE_DEVICES\"]=\"0,1\""
   ]
  },
  {
   "cell_type": "markdown",
   "metadata": {},
   "source": [
    "### 1.Prepare data"
   ]
  },
  {
   "cell_type": "code",
   "execution_count": 9,
   "metadata": {},
   "outputs": [
    {
     "name": "stdout",
     "output_type": "stream",
     "text": [
      "Loading labels...\n",
      "Running time: 432.14591431617737 seconds\n"
     ]
    }
   ],
   "source": [
    "from time import time\n",
    "import numpy as np\n",
    "\n",
    "start_time = time()\n",
    "\n",
    "X_train = np.load('/home/zxt/data/final_22/224/2k/X_train.npy')\n",
    "X_validate = np.load('/home/zxt/data/final_22/224/2k/X_validate.npy')\n",
    "\n",
    "\n",
    "X_test = np.load('/home/zxt/data/final_22/224/2k/X_test.npy')\n",
    "\n",
    "print('Loading labels...')\n",
    "Y_train = np.load('/home/zxt/data/final_22/224/2k/Y_train.npy')\n",
    "Y_validate = np.load('/home/zxt/data/final_22/224/2k/Y_validate.npy')\n",
    "Y_test = np.load('/home/zxt/data/final_22/224/2k/Y_test.npy')\n",
    "\n",
    "end_time = time()\n",
    "print('Running time: %s seconds'%(end_time - start_time))"
   ]
  },
  {
   "cell_type": "code",
   "execution_count": 10,
   "metadata": {},
   "outputs": [
    {
     "data": {
      "text/plain": [
       "35200"
      ]
     },
     "execution_count": 10,
     "metadata": {},
     "output_type": "execute_result"
    }
   ],
   "source": [
    "len(X_train)"
   ]
  },
  {
   "cell_type": "code",
   "execution_count": 11,
   "metadata": {},
   "outputs": [
    {
     "name": "stdout",
     "output_type": "stream",
     "text": [
      "X_train shape: (35200, 224, 224, 3)\n",
      "35200 train samples\n",
      "4400 validate samples\n",
      "4400 test samples\n"
     ]
    }
   ],
   "source": [
    "print('X_train shape:', X_train.shape)\n",
    "print(X_train.shape[0], 'train samples')\n",
    "print(X_validate.shape[0], 'validate samples')\n",
    "print(X_test.shape[0], 'test samples')"
   ]
  },
  {
   "cell_type": "code",
   "execution_count": 12,
   "metadata": {},
   "outputs": [],
   "source": [
    "X_train /=255.\n",
    "X_validate /=  255.\n",
    "X_test /= 255."
   ]
  },
  {
   "cell_type": "code",
   "execution_count": 13,
   "metadata": {},
   "outputs": [],
   "source": [
    "# Y_train label\n",
    "for i in Y_train:\n",
    "    if i[0]=='elephant':\n",
    "        i[0]=0\n",
    "    if i[0]=='wild_boar':\n",
    "        i[0]=1\n",
    "    if i[0]=='gazellethomosons':\n",
    "        i[0]=2\n",
    "    if i[0]=='squirrel':\n",
    "        i[0]=3 \n",
    "    if i[0]=='hedgehog':\n",
    "        i[0]=4\n",
    "    if i[0]=='guineafowl':\n",
    "        i[0]=5\n",
    "    if i[0]=='moose':\n",
    "        i[0]=6\n",
    "    if i[0]=='coyote':\n",
    "        i[0]=7   \n",
    "    if i[0]=='bird':\n",
    "        i[0]=8\n",
    "    if i[0]=='fox':\n",
    "        i[0]=9\n",
    "    if i[0]=='giraffe':\n",
    "        i[0]=10\n",
    "    if i[0]=='buffalo':\n",
    "        i[0]=11\n",
    "    if i[0]=='hare':\n",
    "        i[0]=12\n",
    "    if i[0]=='vehicle':\n",
    "        i[0]=13\n",
    "    if i[0]=='wildebeest':\n",
    "        i[0]=14\n",
    "    if i[0]=='cattle':\n",
    "        i[0]=15 \n",
    "    if i[0]=='skunk':\n",
    "        i[0]=16\n",
    "    if i[0]=='lion':\n",
    "        i[0]=17\n",
    "    if i[0]=='zebra':\n",
    "        i[0]=18\n",
    "    if i[0]=='black_bear':\n",
    "        i[0]=19\n",
    "    if i[0]=='racoon':\n",
    "        i[0]=20\n",
    "    if i[0]=='empty':\n",
    "        i[0]=21\n",
    "        \n",
    "for i in Y_validate:\n",
    "    if i[0]=='elephant':\n",
    "        i[0]=0\n",
    "    if i[0]=='wild_boar':\n",
    "        i[0]=1\n",
    "    if i[0]=='gazellethomosons':\n",
    "        i[0]=2\n",
    "    if i[0]=='squirrel':\n",
    "        i[0]=3 \n",
    "    if i[0]=='hedgehog':\n",
    "        i[0]=4\n",
    "    if i[0]=='guineafowl':\n",
    "        i[0]=5\n",
    "    if i[0]=='moose':\n",
    "        i[0]=6\n",
    "    if i[0]=='coyote':\n",
    "        i[0]=7   \n",
    "    if i[0]=='bird':\n",
    "        i[0]=8\n",
    "    if i[0]=='fox':\n",
    "        i[0]=9\n",
    "    if i[0]=='giraffe':\n",
    "        i[0]=10\n",
    "    if i[0]=='buffalo':\n",
    "        i[0]=11\n",
    "    if i[0]=='hare':\n",
    "        i[0]=12\n",
    "    if i[0]=='vehicle':\n",
    "        i[0]=13\n",
    "    if i[0]=='wildebeest':\n",
    "        i[0]=14\n",
    "    if i[0]=='cattle':\n",
    "        i[0]=15 \n",
    "    if i[0]=='skunk':\n",
    "        i[0]=16\n",
    "    if i[0]=='lion':\n",
    "        i[0]=17\n",
    "    if i[0]=='zebra':\n",
    "        i[0]=18\n",
    "    if i[0]=='black_bear':\n",
    "        i[0]=19\n",
    "    if i[0]=='racoon':\n",
    "        i[0]=20\n",
    "    if i[0]=='empty':\n",
    "        i[0]=21\n",
    "\n",
    "for i in Y_test:\n",
    "    if i[0]=='elephant':\n",
    "        i[0]=0\n",
    "    if i[0]=='wild_boar':\n",
    "        i[0]=1\n",
    "    if i[0]=='gazellethomosons':\n",
    "        i[0]=2\n",
    "    if i[0]=='squirrel':\n",
    "        i[0]=3 \n",
    "    if i[0]=='hedgehog':\n",
    "        i[0]=4\n",
    "    if i[0]=='guineafowl':\n",
    "        i[0]=5\n",
    "    if i[0]=='moose':\n",
    "        i[0]=6\n",
    "    if i[0]=='coyote':\n",
    "        i[0]=7   \n",
    "    if i[0]=='bird':\n",
    "        i[0]=8\n",
    "    if i[0]=='fox':\n",
    "        i[0]=9\n",
    "    if i[0]=='giraffe':\n",
    "        i[0]=10\n",
    "    if i[0]=='buffalo':\n",
    "        i[0]=11\n",
    "    if i[0]=='hare':\n",
    "        i[0]=12\n",
    "    if i[0]=='vehicle':\n",
    "        i[0]=13\n",
    "    if i[0]=='wildebeest':\n",
    "        i[0]=14\n",
    "    if i[0]=='cattle':\n",
    "        i[0]=15 \n",
    "    if i[0]=='skunk':\n",
    "        i[0]=16\n",
    "    if i[0]=='lion':\n",
    "        i[0]=17\n",
    "    if i[0]=='zebra':\n",
    "        i[0]=18\n",
    "    if i[0]=='black_bear':\n",
    "        i[0]=19\n",
    "    if i[0]=='racoon':\n",
    "        i[0]=20\n",
    "    if i[0]=='empty':\n",
    "        i[0]=21"
   ]
  },
  {
   "cell_type": "code",
   "execution_count": 14,
   "metadata": {},
   "outputs": [],
   "source": [
    "from keras.utils import np_utils\n",
    "y_train=np_utils.to_categorical(Y_train,22)\n",
    "y_valid=np_utils.to_categorical(Y_validate,22)\n",
    "y_test=np_utils.to_categorical(Y_test,22)"
   ]
  },
  {
   "cell_type": "code",
   "execution_count": 15,
   "metadata": {},
   "outputs": [
    {
     "data": {
      "text/plain": [
       "array([[0., 0., 0., ..., 0., 0., 0.],\n",
       "       [0., 0., 0., ..., 0., 0., 0.],\n",
       "       [0., 0., 0., ..., 0., 0., 0.],\n",
       "       ...,\n",
       "       [0., 0., 0., ..., 0., 0., 0.],\n",
       "       [0., 0., 0., ..., 0., 0., 0.],\n",
       "       [0., 0., 0., ..., 1., 0., 0.]], dtype=float32)"
      ]
     },
     "execution_count": 15,
     "metadata": {},
     "output_type": "execute_result"
    }
   ],
   "source": [
    "# check up the one-hot encoder\n",
    "y_test"
   ]
  },
  {
   "cell_type": "markdown",
   "metadata": {},
   "source": [
    "### 2.Modeling"
   ]
  },
  {
   "cell_type": "code",
   "execution_count": 16,
   "metadata": {},
   "outputs": [],
   "source": [
    "num_train_samples = len(Y_train)\n",
    "num_val_samples = len(Y_validate)\n",
    "batch_size = 128\n",
    "epochs = 20\n",
    "num_classes = 22\n",
    "input_shape = 224,224,3\n",
    "\n",
    "\n",
    "learning_rate = 0.01\n",
    "decay_rate = learning_rate / epochs\n",
    "momentum = 0.8\n",
    "sgd = SGD(lr=learning_rate, momentum=momentum, decay=decay_rate, nesterov=False)\n",
    "\n",
    "\n",
    "# prevent overfitting\n",
    "early_stopping = EarlyStopping(monitor='val_loss', patience=10, verbose=1)"
   ]
  },
  {
   "cell_type": "code",
   "execution_count": 19,
   "metadata": {},
   "outputs": [
    {
     "name": "stdout",
     "output_type": "stream",
     "text": [
      "[INFO] initializing model......\n",
      "[INFO] compiling model\n",
      "[INFO] training model\n",
      "Train on 35200 samples, validate on 4400 samples\n",
      "Epoch 1/20\n",
      "35200/35200 [==============================] - 406s 12ms/step - loss: 2.3057 - accuracy: 0.2398 - val_loss: 1.6926 - val_accuracy: 0.4189\n",
      "Epoch 2/20\n",
      "35200/35200 [==============================] - 381s 11ms/step - loss: 1.8149 - accuracy: 0.3563 - val_loss: 1.4611 - val_accuracy: 0.4775\n",
      "Epoch 3/20\n",
      "35200/35200 [==============================] - 381s 11ms/step - loss: 1.6663 - accuracy: 0.4069 - val_loss: 1.4080 - val_accuracy: 0.5400\n",
      "Epoch 4/20\n",
      "35200/35200 [==============================] - 382s 11ms/step - loss: 1.6088 - accuracy: 0.4303 - val_loss: 1.3746 - val_accuracy: 0.5159\n",
      "Epoch 5/20\n",
      "35200/35200 [==============================] - 381s 11ms/step - loss: 1.5556 - accuracy: 0.4503 - val_loss: 1.3380 - val_accuracy: 0.5500\n",
      "Epoch 6/20\n",
      "35200/35200 [==============================] - 380s 11ms/step - loss: 1.5206 - accuracy: 0.4604 - val_loss: 1.2235 - val_accuracy: 0.5855\n",
      "Epoch 7/20\n",
      "35200/35200 [==============================] - 381s 11ms/step - loss: 1.4649 - accuracy: 0.4803 - val_loss: 1.2285 - val_accuracy: 0.5945\n",
      "Epoch 8/20\n",
      "35200/35200 [==============================] - 381s 11ms/step - loss: 1.4429 - accuracy: 0.4850 - val_loss: 1.1841 - val_accuracy: 0.5916\n",
      "Epoch 9/20\n",
      "35200/35200 [==============================] - 381s 11ms/step - loss: 1.4141 - accuracy: 0.4999 - val_loss: 1.1565 - val_accuracy: 0.6084\n",
      "Epoch 10/20\n",
      "35200/35200 [==============================] - 381s 11ms/step - loss: 1.3894 - accuracy: 0.5088 - val_loss: 1.1432 - val_accuracy: 0.6182\n",
      "Epoch 11/20\n",
      "35200/35200 [==============================] - 381s 11ms/step - loss: 1.3692 - accuracy: 0.5141 - val_loss: 1.1312 - val_accuracy: 0.6234\n",
      "Epoch 12/20\n",
      "35200/35200 [==============================] - 400s 11ms/step - loss: 1.3561 - accuracy: 0.5183 - val_loss: 1.0890 - val_accuracy: 0.6334\n",
      "Epoch 13/20\n",
      "35200/35200 [==============================] - 388s 11ms/step - loss: 1.3458 - accuracy: 0.5222 - val_loss: 1.1393 - val_accuracy: 0.6380\n",
      "Epoch 14/20\n",
      "35200/35200 [==============================] - 381s 11ms/step - loss: 1.3335 - accuracy: 0.5258 - val_loss: 1.0734 - val_accuracy: 0.6386\n",
      "Epoch 15/20\n",
      "35200/35200 [==============================] - 381s 11ms/step - loss: 1.3118 - accuracy: 0.5366 - val_loss: 1.0851 - val_accuracy: 0.6380\n",
      "Epoch 16/20\n",
      "35200/35200 [==============================] - 381s 11ms/step - loss: 1.2900 - accuracy: 0.5429 - val_loss: 1.0923 - val_accuracy: 0.6436\n",
      "Epoch 17/20\n",
      "35200/35200 [==============================] - 381s 11ms/step - loss: 1.2804 - accuracy: 0.5471 - val_loss: 1.0406 - val_accuracy: 0.6602\n",
      "Epoch 18/20\n",
      "35200/35200 [==============================] - 381s 11ms/step - loss: 1.2606 - accuracy: 0.5571 - val_loss: 1.0570 - val_accuracy: 0.6532\n",
      "Epoch 19/20\n",
      "35200/35200 [==============================] - 381s 11ms/step - loss: 1.2462 - accuracy: 0.5597 - val_loss: 1.0597 - val_accuracy: 0.6541\n",
      "Epoch 20/20\n",
      "35200/35200 [==============================] - 381s 11ms/step - loss: 1.2243 - accuracy: 0.5662 - val_loss: 1.0204 - val_accuracy: 0.6620\n",
      "[INFO] saving model and weights\n",
      "Running time: 7670.945592164993 seconds\n"
     ]
    }
   ],
   "source": [
    "start_time = time()\n",
    "\n",
    "print('[INFO] initializing model......')\n",
    "base_model=VGG16(weights='imagenet',include_top=False,input_tensor=Input(shape=(224,224,3)))\n",
    "head_model=base_model.output\n",
    "head_model=Flatten(name=\"flatten\")(head_model)\n",
    "head_model = Dense(512, activation=\"relu\")(head_model)\n",
    "head_model = Dropout(0.5)(head_model)\n",
    "head_model=Dense(64,activation='relu')(head_model)\n",
    "head_model = Dense(22, activation=\"softmax\")(head_model)\n",
    "model=Model(base_model.input,head_model)\n",
    "\n",
    "for layer in base_model.layers:\n",
    "    layer.trainable=False\n",
    "print('[INFO] compiling model')\n",
    "# sgd=SGD(lr=0.01,momentum=0.9)\n",
    "model.compile(loss='categorical_crossentropy',metrics=['accuracy'],optimizer=sgd)\n",
    "print('[INFO] training model')\n",
    "hist=model.fit(X_train, y_train, batch_size=batch_size , epochs=epochs, validation_data=(X_validate,y_valid))\n",
    "print('[INFO] saving model and weights')\n",
    "model_json=model.to_json()\n",
    "open('model_architecture.json','w').write(model_json)\n",
    "\n",
    "# model.save_weights('/home/zxt/code/final/5k_new/model/model_5k_vgg_1_weights.h5', overwrite=True)\n",
    "# model.save('/home/zxt/code/final/5k_new/model/model_5k_vgg_1.h5')\n",
    "\n",
    "\n",
    "end_time = time()\n",
    "print(\"Running time: %s seconds\"%(end_time - start_time))"
   ]
  },
  {
   "cell_type": "code",
   "execution_count": 20,
   "metadata": {},
   "outputs": [],
   "source": [
    "history_df = pd.DataFrame(hist.history)"
   ]
  },
  {
   "cell_type": "code",
   "execution_count": 21,
   "metadata": {},
   "outputs": [
    {
     "data": {
      "text/plain": [
       "<matplotlib.axes._subplots.AxesSubplot at 0x7f7aa4903a10>"
      ]
     },
     "execution_count": 21,
     "metadata": {},
     "output_type": "execute_result"
    },
    {
     "data": {
      "image/png": "[encoded data removed]",
      "text/plain": [
       "<Figure size 432x288 with 1 Axes>"
      ]
     },
     "metadata": {
      "needs_background": "light"
     },
     "output_type": "display_data"
    }
   ],
   "source": [
    "history_df[['loss', 'val_loss']].plot()"
   ]
  },
  {
   "cell_type": "code",
   "execution_count": 22,
   "metadata": {},
   "outputs": [
    {
     "data": {
      "text/plain": [
       "<matplotlib.axes._subplots.AxesSubplot at 0x7f843827d2d0>"
      ]
     },
     "execution_count": 22,
     "metadata": {},
     "output_type": "execute_result"
    },
    {
     "data": {
      "image/png": "[encoded data removed]",
      "text/plain": [
       "<Figure size 432x288 with 1 Axes>"
      ]
     },
     "metadata": {
      "needs_background": "light"
     },
     "output_type": "display_data"
    }
   ],
   "source": [
    "history_df[['accuracy', 'val_accuracy']].plot()"
   ]
  },
  {
   "cell_type": "code",
   "execution_count": null,
   "metadata": {},
   "outputs": [],
   "source": []
  },
  {
   "cell_type": "code",
   "execution_count": 38,
   "metadata": {},
   "outputs": [
    {
     "ename": "OSError",
     "evalue": "Unable to create file (unable to open file: name = '/home/zxt/data/model/21category/vgg_basic_5k_224_model_5epoch.h5', errno = 2, error message = 'No such file or directory', flags = 13, o_flags = 242)",
     "output_type": "error",
     "traceback": [
      "\u001b[0;31m---------------------------------------------------------------------------\u001b[0m",
      "\u001b[0;31mOSError\u001b[0m                                   Traceback (most recent call last)",
      "\u001b[0;32m<ipython-input-38-b9b1ce5e8371>\u001b[0m in \u001b[0;36m<module>\u001b[0;34m\u001b[0m\n\u001b[0;32m----> 1\u001b[0;31m \u001b[0mparallel_model\u001b[0m\u001b[0;34m.\u001b[0m\u001b[0msave\u001b[0m\u001b[0;34m(\u001b[0m\u001b[0;34m'/home/zxt/data/model/21category/vgg_basic_5k_224_model_5epoch.h5'\u001b[0m\u001b[0;34m)\u001b[0m\u001b[0;34m\u001b[0m\u001b[0;34m\u001b[0m\u001b[0m\n\u001b[0m",
      "\u001b[0;32m~/anaconda3/lib/python3.7/site-packages/keras/engine/network.py\u001b[0m in \u001b[0;36msave\u001b[0;34m(self, filepath, overwrite, include_optimizer)\u001b[0m\n\u001b[1;32m   1150\u001b[0m             \u001b[0;32mraise\u001b[0m \u001b[0mNotImplementedError\u001b[0m\u001b[0;34m\u001b[0m\u001b[0;34m\u001b[0m\u001b[0m\n\u001b[1;32m   1151\u001b[0m         \u001b[0;32mfrom\u001b[0m \u001b[0;34m.\u001b[0m\u001b[0;34m.\u001b[0m\u001b[0mmodels\u001b[0m \u001b[0;32mimport\u001b[0m \u001b[0msave_model\u001b[0m\u001b[0;34m\u001b[0m\u001b[0;34m\u001b[0m\u001b[0m\n\u001b[0;32m-> 1152\u001b[0;31m         \u001b[0msave_model\u001b[0m\u001b[0;34m(\u001b[0m\u001b[0mself\u001b[0m\u001b[0;34m,\u001b[0m \u001b[0mfilepath\u001b[0m\u001b[0;34m,\u001b[0m \u001b[0moverwrite\u001b[0m\u001b[0;34m,\u001b[0m \u001b[0minclude_optimizer\u001b[0m\u001b[0;34m)\u001b[0m\u001b[0;34m\u001b[0m\u001b[0;34m\u001b[0m\u001b[0m\n\u001b[0m\u001b[1;32m   1153\u001b[0m \u001b[0;34m\u001b[0m\u001b[0m\n\u001b[1;32m   1154\u001b[0m     \u001b[0;34m@\u001b[0m\u001b[0msaving\u001b[0m\u001b[0;34m.\u001b[0m\u001b[0mallow_write_to_gcs\u001b[0m\u001b[0;34m\u001b[0m\u001b[0;34m\u001b[0m\u001b[0m\n",
      "\u001b[0;32m~/anaconda3/lib/python3.7/site-packages/keras/engine/saving.py\u001b[0m in \u001b[0;36msave_wrapper\u001b[0;34m(obj, filepath, overwrite, *args, **kwargs)\u001b[0m\n\u001b[1;32m    447\u001b[0m                 \u001b[0mos\u001b[0m\u001b[0;34m.\u001b[0m\u001b[0mremove\u001b[0m\u001b[0;34m(\u001b[0m\u001b[0mtmp_filepath\u001b[0m\u001b[0;34m)\u001b[0m\u001b[0;34m\u001b[0m\u001b[0;34m\u001b[0m\u001b[0m\n\u001b[1;32m    448\u001b[0m         \u001b[0;32melse\u001b[0m\u001b[0;34m:\u001b[0m\u001b[0;34m\u001b[0m\u001b[0;34m\u001b[0m\u001b[0m\n\u001b[0;32m--> 449\u001b[0;31m             \u001b[0msave_function\u001b[0m\u001b[0;34m(\u001b[0m\u001b[0mobj\u001b[0m\u001b[0;34m,\u001b[0m \u001b[0mfilepath\u001b[0m\u001b[0;34m,\u001b[0m \u001b[0moverwrite\u001b[0m\u001b[0;34m,\u001b[0m \u001b[0;34m*\u001b[0m\u001b[0margs\u001b[0m\u001b[0;34m,\u001b[0m \u001b[0;34m**\u001b[0m\u001b[0mkwargs\u001b[0m\u001b[0;34m)\u001b[0m\u001b[0;34m\u001b[0m\u001b[0;34m\u001b[0m\u001b[0m\n\u001b[0m\u001b[1;32m    450\u001b[0m \u001b[0;34m\u001b[0m\u001b[0m\n\u001b[1;32m    451\u001b[0m     \u001b[0;32mreturn\u001b[0m \u001b[0msave_wrapper\u001b[0m\u001b[0;34m\u001b[0m\u001b[0;34m\u001b[0m\u001b[0m\n",
      "\u001b[0;32m~/anaconda3/lib/python3.7/site-packages/keras/engine/saving.py\u001b[0m in \u001b[0;36msave_model\u001b[0;34m(model, filepath, overwrite, include_optimizer)\u001b[0m\n\u001b[1;32m    538\u001b[0m             \u001b[0;32mif\u001b[0m \u001b[0;32mnot\u001b[0m \u001b[0mproceed\u001b[0m\u001b[0;34m:\u001b[0m\u001b[0;34m\u001b[0m\u001b[0;34m\u001b[0m\u001b[0m\n\u001b[1;32m    539\u001b[0m                 \u001b[0;32mreturn\u001b[0m\u001b[0;34m\u001b[0m\u001b[0;34m\u001b[0m\u001b[0m\n\u001b[0;32m--> 540\u001b[0;31m         \u001b[0;32mwith\u001b[0m \u001b[0mH5Dict\u001b[0m\u001b[0;34m(\u001b[0m\u001b[0mfilepath\u001b[0m\u001b[0;34m,\u001b[0m \u001b[0mmode\u001b[0m\u001b[0;34m=\u001b[0m\u001b[0;34m'w'\u001b[0m\u001b[0;34m)\u001b[0m \u001b[0;32mas\u001b[0m \u001b[0mh5dict\u001b[0m\u001b[0;34m:\u001b[0m\u001b[0;34m\u001b[0m\u001b[0;34m\u001b[0m\u001b[0m\n\u001b[0m\u001b[1;32m    541\u001b[0m             \u001b[0m_serialize_model\u001b[0m\u001b[0;34m(\u001b[0m\u001b[0mmodel\u001b[0m\u001b[0;34m,\u001b[0m \u001b[0mh5dict\u001b[0m\u001b[0;34m,\u001b[0m \u001b[0minclude_optimizer\u001b[0m\u001b[0;34m)\u001b[0m\u001b[0;34m\u001b[0m\u001b[0;34m\u001b[0m\u001b[0m\n\u001b[1;32m    542\u001b[0m     \u001b[0;32melif\u001b[0m \u001b[0mhasattr\u001b[0m\u001b[0;34m(\u001b[0m\u001b[0mfilepath\u001b[0m\u001b[0;34m,\u001b[0m \u001b[0;34m'write'\u001b[0m\u001b[0;34m)\u001b[0m \u001b[0;32mand\u001b[0m \u001b[0mcallable\u001b[0m\u001b[0;34m(\u001b[0m\u001b[0mfilepath\u001b[0m\u001b[0;34m.\u001b[0m\u001b[0mwrite\u001b[0m\u001b[0;34m)\u001b[0m\u001b[0;34m:\u001b[0m\u001b[0;34m\u001b[0m\u001b[0;34m\u001b[0m\u001b[0m\n",
      "\u001b[0;32m~/anaconda3/lib/python3.7/site-packages/keras/utils/io_utils.py\u001b[0m in \u001b[0;36m__init__\u001b[0;34m(self, path, mode)\u001b[0m\n\u001b[1;32m    189\u001b[0m             \u001b[0mself\u001b[0m\u001b[0;34m.\u001b[0m\u001b[0m_is_file\u001b[0m \u001b[0;34m=\u001b[0m \u001b[0;32mFalse\u001b[0m\u001b[0;34m\u001b[0m\u001b[0;34m\u001b[0m\u001b[0m\n\u001b[1;32m    190\u001b[0m         \u001b[0;32melif\u001b[0m \u001b[0misinstance\u001b[0m\u001b[0;34m(\u001b[0m\u001b[0mpath\u001b[0m\u001b[0;34m,\u001b[0m \u001b[0msix\u001b[0m\u001b[0;34m.\u001b[0m\u001b[0mstring_types\u001b[0m\u001b[0;34m)\u001b[0m \u001b[0;32mor\u001b[0m \u001b[0m_is_path_instance\u001b[0m\u001b[0;34m(\u001b[0m\u001b[0mpath\u001b[0m\u001b[0;34m)\u001b[0m\u001b[0;34m:\u001b[0m\u001b[0;34m\u001b[0m\u001b[0;34m\u001b[0m\u001b[0m\n\u001b[0;32m--> 191\u001b[0;31m             \u001b[0mself\u001b[0m\u001b[0;34m.\u001b[0m\u001b[0mdata\u001b[0m \u001b[0;34m=\u001b[0m \u001b[0mh5py\u001b[0m\u001b[0;34m.\u001b[0m\u001b[0mFile\u001b[0m\u001b[0;34m(\u001b[0m\u001b[0mpath\u001b[0m\u001b[0;34m,\u001b[0m \u001b[0mmode\u001b[0m\u001b[0;34m=\u001b[0m\u001b[0mmode\u001b[0m\u001b[0;34m)\u001b[0m\u001b[0;34m\u001b[0m\u001b[0;34m\u001b[0m\u001b[0m\n\u001b[0m\u001b[1;32m    192\u001b[0m             \u001b[0mself\u001b[0m\u001b[0;34m.\u001b[0m\u001b[0m_is_file\u001b[0m \u001b[0;34m=\u001b[0m \u001b[0;32mTrue\u001b[0m\u001b[0;34m\u001b[0m\u001b[0;34m\u001b[0m\u001b[0m\n\u001b[1;32m    193\u001b[0m         \u001b[0;32melif\u001b[0m \u001b[0misinstance\u001b[0m\u001b[0;34m(\u001b[0m\u001b[0mpath\u001b[0m\u001b[0;34m,\u001b[0m \u001b[0mdict\u001b[0m\u001b[0;34m)\u001b[0m\u001b[0;34m:\u001b[0m\u001b[0;34m\u001b[0m\u001b[0;34m\u001b[0m\u001b[0m\n",
      "\u001b[0;32m~/anaconda3/lib/python3.7/site-packages/h5py/_hl/files.py\u001b[0m in \u001b[0;36m__init__\u001b[0;34m(self, name, mode, driver, libver, userblock_size, swmr, rdcc_nslots, rdcc_nbytes, rdcc_w0, track_order, **kwds)\u001b[0m\n\u001b[1;32m    392\u001b[0m                 fid = make_fid(name, mode, userblock_size,\n\u001b[1;32m    393\u001b[0m                                \u001b[0mfapl\u001b[0m\u001b[0;34m,\u001b[0m \u001b[0mfcpl\u001b[0m\u001b[0;34m=\u001b[0m\u001b[0mmake_fcpl\u001b[0m\u001b[0;34m(\u001b[0m\u001b[0mtrack_order\u001b[0m\u001b[0;34m=\u001b[0m\u001b[0mtrack_order\u001b[0m\u001b[0;34m)\u001b[0m\u001b[0;34m,\u001b[0m\u001b[0;34m\u001b[0m\u001b[0;34m\u001b[0m\u001b[0m\n\u001b[0;32m--> 394\u001b[0;31m                                swmr=swmr)\n\u001b[0m\u001b[1;32m    395\u001b[0m \u001b[0;34m\u001b[0m\u001b[0m\n\u001b[1;32m    396\u001b[0m             \u001b[0;32mif\u001b[0m \u001b[0mswmr_support\u001b[0m\u001b[0;34m:\u001b[0m\u001b[0;34m\u001b[0m\u001b[0;34m\u001b[0m\u001b[0m\n",
      "\u001b[0;32m~/anaconda3/lib/python3.7/site-packages/h5py/_hl/files.py\u001b[0m in \u001b[0;36mmake_fid\u001b[0;34m(name, mode, userblock_size, fapl, fcpl, swmr)\u001b[0m\n\u001b[1;32m    174\u001b[0m         \u001b[0mfid\u001b[0m \u001b[0;34m=\u001b[0m \u001b[0mh5f\u001b[0m\u001b[0;34m.\u001b[0m\u001b[0mcreate\u001b[0m\u001b[0;34m(\u001b[0m\u001b[0mname\u001b[0m\u001b[0;34m,\u001b[0m \u001b[0mh5f\u001b[0m\u001b[0;34m.\u001b[0m\u001b[0mACC_EXCL\u001b[0m\u001b[0;34m,\u001b[0m \u001b[0mfapl\u001b[0m\u001b[0;34m=\u001b[0m\u001b[0mfapl\u001b[0m\u001b[0;34m,\u001b[0m \u001b[0mfcpl\u001b[0m\u001b[0;34m=\u001b[0m\u001b[0mfcpl\u001b[0m\u001b[0;34m)\u001b[0m\u001b[0;34m\u001b[0m\u001b[0;34m\u001b[0m\u001b[0m\n\u001b[1;32m    175\u001b[0m     \u001b[0;32melif\u001b[0m \u001b[0mmode\u001b[0m \u001b[0;34m==\u001b[0m \u001b[0;34m'w'\u001b[0m\u001b[0;34m:\u001b[0m\u001b[0;34m\u001b[0m\u001b[0;34m\u001b[0m\u001b[0m\n\u001b[0;32m--> 176\u001b[0;31m         \u001b[0mfid\u001b[0m \u001b[0;34m=\u001b[0m \u001b[0mh5f\u001b[0m\u001b[0;34m.\u001b[0m\u001b[0mcreate\u001b[0m\u001b[0;34m(\u001b[0m\u001b[0mname\u001b[0m\u001b[0;34m,\u001b[0m \u001b[0mh5f\u001b[0m\u001b[0;34m.\u001b[0m\u001b[0mACC_TRUNC\u001b[0m\u001b[0;34m,\u001b[0m \u001b[0mfapl\u001b[0m\u001b[0;34m=\u001b[0m\u001b[0mfapl\u001b[0m\u001b[0;34m,\u001b[0m \u001b[0mfcpl\u001b[0m\u001b[0;34m=\u001b[0m\u001b[0mfcpl\u001b[0m\u001b[0;34m)\u001b[0m\u001b[0;34m\u001b[0m\u001b[0;34m\u001b[0m\u001b[0m\n\u001b[0m\u001b[1;32m    177\u001b[0m     \u001b[0;32melif\u001b[0m \u001b[0mmode\u001b[0m \u001b[0;34m==\u001b[0m \u001b[0;34m'a'\u001b[0m\u001b[0;34m:\u001b[0m\u001b[0;34m\u001b[0m\u001b[0;34m\u001b[0m\u001b[0m\n\u001b[1;32m    178\u001b[0m         \u001b[0;31m# Open in append mode (read/write).\u001b[0m\u001b[0;34m\u001b[0m\u001b[0;34m\u001b[0m\u001b[0;34m\u001b[0m\u001b[0m\n",
      "\u001b[0;32mh5py/_objects.pyx\u001b[0m in \u001b[0;36mh5py._objects.with_phil.wrapper\u001b[0;34m()\u001b[0m\n",
      "\u001b[0;32mh5py/_objects.pyx\u001b[0m in \u001b[0;36mh5py._objects.with_phil.wrapper\u001b[0;34m()\u001b[0m\n",
      "\u001b[0;32mh5py/h5f.pyx\u001b[0m in \u001b[0;36mh5py.h5f.create\u001b[0;34m()\u001b[0m\n",
      "\u001b[0;31mOSError\u001b[0m: Unable to create file (unable to open file: name = '/home/zxt/data/model/21category/vgg_basic_5k_224_model_5epoch.h5', errno = 2, error message = 'No such file or directory', flags = 13, o_flags = 242)"
     ]
    }
   ],
   "source": [
    "model.save('/home/zxt/data/final_22/model/224_2k/cnn_baseline.h5')\n",
    "model.save('/home/zxt/data/final_22/model/224_2k/cnn_baseline_weights.h5')"
   ]
  },
  {
   "cell_type": "markdown",
   "metadata": {},
   "source": [
    "### 4.Evaluation"
   ]
  },
  {
   "cell_type": "code",
   "execution_count": 32,
   "metadata": {},
   "outputs": [
    {
     "data": {
      "text/plain": [
       "<matplotlib.axes._subplots.AxesSubplot at 0x7f8e05952d50>"
      ]
     },
     "execution_count": 32,
     "metadata": {},
     "output_type": "execute_result"
    }
   ],
   "source": [
    "history_df = pd.DataFrame(hist.history)\n",
    "history_df[['loss', 'val_loss']].plot()\n",
    "history_df[['accuracy', 'val_accuracy']].plot()"
   ]
  },
  {
   "cell_type": "markdown",
   "metadata": {},
   "source": [
    "### 5.Prediction on X_test dataset"
   ]
  },
  {
   "cell_type": "code",
   "execution_count": 33,
   "metadata": {},
   "outputs": [
    {
     "name": "stdout",
     "output_type": "stream",
     "text": [
      "4400/4400 [==============================] - 3s 580us/step\n",
      "\n",
      "test loss 1.3659537623145364\n",
      "accuracy 0.5372727513313293\n"
     ]
    }
   ],
   "source": [
    "loss,accuracy = model.evaluate(X_test,y_test)\n",
    "print('\\ntest loss',loss)\n",
    "print('accuracy',accuracy)"
   ]
  },
  {
   "cell_type": "code",
   "execution_count": null,
   "metadata": {},
   "outputs": [],
   "source": [
    "y_pred = model.predict(X_test,batch_size=1)"
   ]
  },
  {
   "cell_type": "code",
   "execution_count": null,
   "metadata": {},
   "outputs": [],
   "source": [
    "y_pred"
   ]
  },
  {
   "cell_type": "markdown",
   "metadata": {},
   "source": [
    "### 6.Check each categoryaccuracy"
   ]
  },
  {
   "cell_type": "code",
   "execution_count": null,
   "metadata": {},
   "outputs": [],
   "source": [
    "a = list(y_pred)\n",
    "y_prediction=[]\n",
    "for i in a:\n",
    "    j =list(i)\n",
    "    y_prediction.append(j.index(max(j)))"
   ]
  },
  {
   "cell_type": "code",
   "execution_count": null,
   "metadata": {},
   "outputs": [],
   "source": [
    "y_prediction[:5]"
   ]
  },
  {
   "cell_type": "code",
   "execution_count": null,
   "metadata": {},
   "outputs": [],
   "source": [
    "Y_test[:5]"
   ]
  },
  {
   "cell_type": "code",
   "execution_count": null,
   "metadata": {},
   "outputs": [],
   "source": [
    "# array to dataframe\n",
    "y_real=pd.DataFrame(Y_test,columns=['label'])"
   ]
  },
  {
   "cell_type": "code",
   "execution_count": null,
   "metadata": {},
   "outputs": [],
   "source": [
    "y_real.head(2)"
   ]
  },
  {
   "cell_type": "code",
   "execution_count": null,
   "metadata": {},
   "outputs": [],
   "source": [
    "y_predict = pd.DataFrame(y_prediction,columns=['label_pre'])"
   ]
  },
  {
   "cell_type": "code",
   "execution_count": null,
   "metadata": {},
   "outputs": [],
   "source": [
    "\n",
    "y_predict.head(2)"
   ]
  },
  {
   "cell_type": "code",
   "execution_count": null,
   "metadata": {},
   "outputs": [],
   "source": [
    "prediction_df = pd.concat([y_real,y_predict],axis=1)\n",
    "prediction_df['label']=prediction_df['label'].astype(int)\n",
    "prediction_df['diff']=prediction_df['label']-prediction_df['label_pre']\n"
   ]
  },
  {
   "cell_type": "code",
   "execution_count": null,
   "metadata": {},
   "outputs": [],
   "source": [
    "prediction_df"
   ]
  },
  {
   "cell_type": "code",
   "execution_count": null,
   "metadata": {},
   "outputs": [],
   "source": [
    "prediction_df.to_csv(r'/home/zxt/data/results/prediction_df.csv',index=False)"
   ]
  },
  {
   "cell_type": "code",
   "execution_count": null,
   "metadata": {},
   "outputs": [],
   "source": [
    "onehot_keylist = ['elephant','wild_boar','gazellethomosons','squirrel','hedgehog','guineafowl','moose','coyote','bird',\n",
    "                  'fox','giraffe','buffalo','hare','vehicle','wildebeest','cattle','skunk','lion','zebra','black_bear',\n",
    "                  'racoon']\n",
    "onehot_dict = {'elephant':0,'wild_boar':1,'gazellethomosons':2,'squirrel':3,'hedgehog':4,'guineafowl':5,'moose':6,'coyote':7,\n",
    "              'bird':8,'fox':9,'giraffe':10,'buffalo':11,'hare':12,'vehicle':13,'wildebeest':14,'cattle':15,'skunk':16,'lion':17,\n",
    "              'zebra':18,'black_bear':19,'racoon':20}\n",
    "\n",
    "for animal in onehot_keylist:\n",
    "    name = animal\n",
    "    animal = prediction_df[prediction_df['label']== onehot_dict[animal]]\n",
    "    acc = animal.loc[:,'diff'].value_counts()[0]/len(animal)\n",
    "    print(\"%s acc: %10.3f\" %(name,acc) )"
   ]
  },
  {
   "cell_type": "code",
   "execution_count": null,
   "metadata": {},
   "outputs": [],
   "source": []
  }
 ],
 "metadata": {
  "kernelspec": {
   "display_name": "Python 3",
   "language": "python",
   "name": "python3"
  },
  "language_info": {
   "codemirror_mode": {
    "name": "ipython",
    "version": 3
   },
   "file_extension": ".py",
   "mimetype": "text/x-python",
   "name": "python",
   "nbconvert_exporter": "python",
   "pygments_lexer": "ipython3",
   "version": "3.7.4"
  }
 },
 "nbformat": 4,
 "nbformat_minor": 4
}
